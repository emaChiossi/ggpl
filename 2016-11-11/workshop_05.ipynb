{
 "cells": [
  {
   "cell_type": "markdown",
   "metadata": {},
   "source": [
    "<h1>Workshop n°5 di GGPL di Emanuele Chiossi, mat. 439468</h1>\n",
    "<h3>Modeling the furnishings of high schools</h3>"
   ]
  },
  {
   "cell_type": "markdown",
   "metadata": {},
   "source": [
    "<h2>Descrizione</h2>"
   ]
  },
  {
   "cell_type": "markdown",
   "metadata": {},
   "source": [
    "Per questo homework ho deciso di realizzare diversi elementi scolastici:\n",
    "    -cattedra\n",
    "    -banco\n",
    "    -sedia\n",
    "    -lavagna\n",
    "    -armadio\n",
    "    -appendiabiti\n",
    "Sono state prese dal web le seguenti immagini come riferimento per \n",
    "la realizzazione dei vari modelli.\n",
    "\n",
    "Le scelte progettuali e le variabili impiegate sono spiegate passo passo\n",
    "tramite il commento del codice prodotto.\n",
    " "
   ]
  },
  {
   "cell_type": "markdown",
   "metadata": {},
   "source": [
    "Cattedra:"
   ]
  },
  {
   "cell_type": "markdown",
   "metadata": {},
   "source": [
    "![img text](schemaCattedra.jpg)\n"
   ]
  },
  {
   "cell_type": "markdown",
   "metadata": {},
   "source": [
    "![img text](cattedra.jpg)\n"
   ]
  },
  {
   "cell_type": "markdown",
   "metadata": {},
   "source": [
    "Banco:"
   ]
  },
  {
   "cell_type": "markdown",
   "metadata": {},
   "source": [
    "![img text](schemabanco.jpg)"
   ]
  },
  {
   "cell_type": "markdown",
   "metadata": {},
   "source": [
    "![img text](banco.jpg)"
   ]
  },
  {
   "cell_type": "markdown",
   "metadata": {},
   "source": [
    "Sedia:"
   ]
  },
  {
   "cell_type": "markdown",
   "metadata": {},
   "source": [
    "![img text](schemaSedia.jpg)"
   ]
  },
  {
   "cell_type": "markdown",
   "metadata": {},
   "source": [
    "![img text](sedia.jpg)"
   ]
  },
  {
   "cell_type": "markdown",
   "metadata": {},
   "source": [
    "Lavagna:"
   ]
  },
  {
   "cell_type": "markdown",
   "metadata": {},
   "source": [
    "![img text](schemaLav.jpg)"
   ]
  },
  {
   "cell_type": "markdown",
   "metadata": {},
   "source": [
    "![img text](lavagna.jpg)"
   ]
  },
  {
   "cell_type": "markdown",
   "metadata": {
    "collapsed": false
   },
   "source": [
    "Armadio:"
   ]
  },
  {
   "cell_type": "markdown",
   "metadata": {},
   "source": [
    "![img text](schemaArm.jpg)"
   ]
  },
  {
   "cell_type": "markdown",
   "metadata": {},
   "source": [
    "![img text](armadio.jpg)"
   ]
  },
  {
   "cell_type": "markdown",
   "metadata": {},
   "source": [
    "Appendiabiti:"
   ]
  },
  {
   "cell_type": "markdown",
   "metadata": {},
   "source": [
    "![img text](schemaAbiti.jpg)"
   ]
  },
  {
   "cell_type": "markdown",
   "metadata": {},
   "source": [
    "![img text](appendiabiti.jpg)"
   ]
  },
  {
   "cell_type": "markdown",
   "metadata": {},
   "source": [
    "Codice:"
   ]
  },
  {
   "cell_type": "code",
   "execution_count": 9,
   "metadata": {
    "collapsed": false
   },
   "outputs": [],
   "source": [
    "from pyplasm import *"
   ]
  },
  {
   "cell_type": "markdown",
   "metadata": {},
   "source": [
    "Funzione che realizza una cattedra:"
   ]
  },
  {
   "cell_type": "code",
   "execution_count": 10,
   "metadata": {
    "collapsed": false
   },
   "outputs": [],
   "source": [
    "def drawTeachingPost(dx,dy,dz):#funzione che disegna la cattedra\n",
    "    heightPlan = .02#altezza del piano della cattedra\n",
    "    rCylinder = .02#raggio piede della cattedra\n",
    "    hStructure = .03#larghezza struttura di metallo della cattedra\n",
    "    plan = []#costruzione piano della cattedra\n",
    "    plan.append(COLOR([244./255.,164./255.,96./255.,1]))#marrone chiaro\n",
    "    plan.append(T([1,2,3])([0,0,dz-heightPlan]))#posizionato all'altezza corretta\n",
    "    plan.append(CUBOID([dx,dy,heightPlan]))\n",
    "    base = []#costruzione piano colorato di verde\n",
    "    base.append(COLOR([153./255.,1,153./255.,1]))#verde\n",
    "    base.append(T([1,2,3])([0,0,dz]))#posizionato all'altezza corretta\n",
    "    base.append(CUBOID([dx,dy,0.001]))\n",
    "    peg = CYLINDER([rCylinder,dz-heightPlan])(100)#gamba della cattedra\n",
    "    pegs = []#costruzione gambe distanziate opportunamente in modo\n",
    "    pegs.append(COLOR(GRAY))# parametrico, di colore grigio\n",
    "    pegs.append(T([1,2,3])([dx*.06,dy*.1,0]))\n",
    "    pegs.append(peg)\n",
    "    pegs.append(T([1,2,3])([dx-2*(dx*.06),0,0]))\n",
    "    pegs.append(peg)\n",
    "    pegs.append(T([1,2,3])([0,dy-2*(dy*.1),0]))\n",
    "    pegs.append(peg)\n",
    "    pegs.append(T([1,2,3])([-(dx-2*(dx*.06)),0,0]))\n",
    "    pegs.append(peg)\n",
    "    structure = []#costruzione struttura in metallo di colore grigio\n",
    "    structure.append(COLOR(GRAY))#costruita sempre in modo parametrico \n",
    "    structure.append(T([1,2,3])([dx*.06+rCylinder,dy*.1,dz-heightPlan-hStructure]))\n",
    "    structure.append(CUBOID([dx-2*(dx*.06)-2*rCylinder,hStructure,hStructure]))\n",
    "    structure.append(T([1,2,3])([0,rCylinder,0]))\n",
    "    structure.append(CUBOID([hStructure,dy-2*(dy*.1)-3*rCylinder,hStructure]))\n",
    "    structure.append(T([1,2,3])([dx-2*(dx*.06)-2*rCylinder-hStructure,0,0]))\n",
    "    structure.append(CUBOID([hStructure,dy-2*(dy*.1)-3*rCylinder,hStructure]))\n",
    "    structure.append(T([1,2,3])([hStructure,dy-2*(dy*.1)-3*rCylinder,0]))    \n",
    "    structure.append(CUBOID([-(dx-2*(dx*.06)-2*rCylinder),hStructure,hStructure]))\n",
    "    cover = []#costruzione della copertura in legno della cattedra e dei cassetti\n",
    "    cover.append(COLOR([139./255.,69./255.,19./255.,1]))\n",
    "    cover.append(T([1,2,3])([dx*.06+rCylinder+hStructure,dy*.1+hStructure,dz*0.55]))\n",
    "    cover.append(CUBOID([heightPlan,dy-2*(dy*.1)-3*rCylinder-2*heightPlan,dz-(dz*0.55)-heightPlan]))\n",
    "    cover.append(T([1,2,3])([dx-2*(dx*.06)-2*rCylinder-2*hStructure,0,0]))\n",
    "    cover.append(CUBOID([-heightPlan,dy-2*(dy*.1)-3*rCylinder-2*heightPlan,dz-(dz*0.55)-heightPlan]))\n",
    "    cover.append(T([1,2,3])([-heightPlan,0,0]))\n",
    "    cover.append(CUBOID([-dx*.25,dy-2*(dy*.1)-3*rCylinder-2*heightPlan,heightPlan]))\n",
    "    cover.append(T([1,2,3])([-dx*.25,0,0]))\n",
    "    cover.append(CUBOID([-heightPlan,dy-2*(dy*.1)-3*rCylinder-2*heightPlan,dz-(dz*0.55)-heightPlan]))\n",
    "    cover.append(T([1,2,3])([.002,0,heightPlan+.002])) \n",
    "    cover.append(CUBOID([dx*.25-2*.002,heightPlan,.5*(dz-(dz*0.55)-2*heightPlan-hStructure)]))\n",
    "    cover.append(T([1,2,3])([0,0,.5*(dz-(dz*0.55)-2*heightPlan-hStructure)+.002])) \n",
    "    cover.append(CUBOID([dx*.25-2*.002,heightPlan,.5*(dz-(dz*0.55)-2*heightPlan-hStructure)-.002]))\n",
    "    cover.append(T([1,2,3])([dx*.25*.5-.05,-.02,.5*(dz-(dz*0.55)-2*heightPlan-hStructure)-.05]))\n",
    "    cover.append(COLOR(GRAY))\n",
    "    cover.append(CUBOID([.1,.02,.01]))\n",
    "    cover.append(T([1,2,3])([0,0,-.5*(dz-(dz*0.55)-2*heightPlan-hStructure)-.002]))\n",
    "    cover.append(CUBOID([.1,.02,.01]))\n",
    "    backCover=[]#costruzione della copertura posteriore con opportune riseghe ad\n",
    "    backCover.append(COLOR([139./255.,69./255.,19./255.,1]))#incastro nella struttura in metallo\n",
    "    backCover.append(T([1,2,3])([dx*.06+rCylinder,dy*.1+hStructure+dy-2*(dy*.1)-3*rCylinder-2*heightPlan,dz*0.55]))\n",
    "    backCover.append(CUBOID([-.1,hStructure,dz-(dz*0.55)-heightPlan]))\n",
    "    backCover.append(CUBOID([hStructure,hStructure,dz-(dz*0.55)-heightPlan-hStructure]))\n",
    "    backCover.append(T([1,2,3])([hStructure,0,0]))\n",
    "    backCover.append(CUBOID([dx-2*(dx*.06)-2*rCylinder-2*hStructure,hStructure,dz-(dz*0.55)-heightPlan]))    \n",
    "    backCover.append(T([1,2,3])([dx-2*(dx*.06)-2*rCylinder-2*hStructure,0,0]))\n",
    "    backCover.append(CUBOID([hStructure,hStructure,dz-(dz*0.55)-heightPlan-hStructure]))\n",
    "    backCover.append(T([1,2,3])([hStructure,0,0]))\n",
    "    backCover.append(CUBOID([.1,hStructure,dz-(dz*0.55)-heightPlan]))\n",
    "    return STRUCT([STRUCT(backCover),STRUCT(cover),STRUCT(base),STRUCT(plan),STRUCT(structure),STRUCT(pegs)])"
   ]
  },
  {
   "cell_type": "markdown",
   "metadata": {},
   "source": [
    "Funzione che realizza una sedia:"
   ]
  },
  {
   "cell_type": "code",
   "execution_count": 11,
   "metadata": {
    "collapsed": false
   },
   "outputs": [],
   "source": [
    "def drawChair(dx,dy,dz):\n",
    "    lPeg = .04\n",
    "    zStructure = .02\n",
    "    yStructure = zStructure*.5\n",
    "    zSeduta = .04\n",
    "    pegs = []#costruzione piedi della sedia\n",
    "    pegs.append(COLOR([205./255.,133./255.,63./255.,1]))\n",
    "    pegs.append(CUBOID([lPeg,lPeg,dz*.5]))\n",
    "    pegs.append(T([1,2,3])([dx-lPeg,0,0]))\n",
    "    pegs.append(CUBOID([lPeg,lPeg,dz*.5]))\n",
    "    pegs.append(T([1,2,3])([0,dy-lPeg,0]))\n",
    "    pegs.append(CUBOID([lPeg,lPeg,dz]))\n",
    "    pegs.append(T([1,2,3])([-(dx-lPeg),0,0]))\n",
    "    pegs.append(CUBOID([lPeg,lPeg,dz]))\n",
    "    structure1 = []#costruzione stecche sull'asse x\n",
    "    structure1.append(COLOR([205./255.,133./255.,63./255.,1]))\n",
    "    structure1.append(T([1,2,3])([lPeg,lPeg*.5-yStructure*.5,dz*.35]))\n",
    "    structure1.append(CUBOID([dx-2*lPeg,yStructure,zStructure]))\n",
    "    structure1.append(T([1,2,3])([0,dy-lPeg,0]))\n",
    "    structure1.append(CUBOID([dx-2*lPeg,yStructure,zStructure]))\n",
    "    structure2 = []#costruzione stecche sull'asse y\n",
    "    structure2.append(COLOR([205./255.,133./255.,63./255.,1]))\n",
    "    structure2.append(T([1,2,3])([lPeg*.5-yStructure*.5,lPeg,dz*.20]))\n",
    "    structure2.append(CUBOID([yStructure,dx-2*lPeg,zStructure]))\n",
    "    structure2.append(T([1,2,3])([dy-lPeg,0,0]))\n",
    "    structure2.append(CUBOID([yStructure,dx-2*lPeg,zStructure]))\n",
    "    structure3 = []#costruzione schienale\n",
    "    structure3.append(COLOR([205./255.,133./255.,63./255.,1]))\n",
    "    structure3.append(T([1,2,3])([lPeg,dy-lPeg*.5-yStructure*.5,dz*.80]))\n",
    "    structure3.append(CUBOID([dx-2*lPeg,yStructure,zStructure*5]))\n",
    "    #costruzione seduta della sedia\n",
    "    vertexs = [[lPeg,lPeg*.5,dz*.5-.005],[lPeg,lPeg,dz*.5-.005],[lPeg*.5,lPeg,dz*.5-.005],[lPeg*.5,dy-lPeg,dz*.5-.005],[lPeg,dy-lPeg,dz*.5-.005],[lPeg,dy-lPeg*.5,dz*.5-.005],[dx-lPeg,dy-lPeg*.5,dz*.5-.005],[dx-lPeg,dy-lPeg,dz*.5-.005],[dx-lPeg*.5,dy-lPeg,dz*.5-.005],[dx-lPeg,lPeg*.5,dz*.5-.005],[dx-lPeg,lPeg,dz*.5-.005],[dx-lPeg*.5,lPeg,dz*.5-.005],[lPeg,lPeg*.5,dz*.5-.005-zSeduta],[lPeg,lPeg,dz*.5-.005-zSeduta],[lPeg*.5,lPeg,dz*.5-.005-zSeduta],[lPeg*.5,dy-lPeg,dz*.5-.005-zSeduta],[lPeg,dy-lPeg,dz*.5-.005-zSeduta],[lPeg,dy-lPeg*.5,dz*.5-.005-zSeduta],[dx-lPeg,dy-lPeg*.5,dz*.5-.005-zSeduta],[dx-lPeg,dy-lPeg,dz*.5-.005-zSeduta],[dx-lPeg*.5,dy-lPeg,dz*.5-.005-zSeduta],[dx-lPeg,lPeg*.5,dz*.5-.005-zSeduta],[dx-lPeg,lPeg,dz*.5-.005-zSeduta],[dx-lPeg*.5,lPeg,dz*.5-.005-zSeduta]]\n",
    "    cells = [[1,2,3,4,5,6,7,8,9,10,11,12,13,14,15,16,17,18,19,20,21,22,23,24]]\n",
    "    seduta = COLOR([205./255.,133./255.,63./255.,1])(MKPOL([vertexs,cells,None]))\n",
    "    vertexs2 = [[lPeg,lPeg*.5,dz*.5-.004],[lPeg,lPeg,dz*.5-.004],[lPeg*.5,lPeg,dz*.5-.004],[lPeg*.5,dy-lPeg,dz*.5-.004],[lPeg,dy-lPeg,dz*.5-.004],[lPeg,dy-lPeg*.5,dz*.5-.004],[dx-lPeg,dy-lPeg*.5,dz*.5-.004],[dx-lPeg,dy-lPeg,dz*.5-.004],[dx-lPeg*.5,dy-lPeg,dz*.5-.004],[dx-lPeg,lPeg*.5,dz*.5-.004],[dx-lPeg,lPeg,dz*.5-.004],[dx-lPeg*.5,lPeg,dz*.5-.004]]\n",
    "    cells2 = [[1,2,3,4,5,6,7,8,9,10,11,12]]\n",
    "    seduta2 = COLOR([65./255.,105./255.,225./255.,1])(MKPOL([vertexs2,cells2,None]))\n",
    "    return STRUCT([seduta,seduta2,STRUCT(pegs),STRUCT(structure1),STRUCT(structure2),STRUCT(structure3)])"
   ]
  },
  {
   "cell_type": "markdown",
   "metadata": {},
   "source": [
    "Funzione che realizza la lavagna:"
   ]
  },
  {
   "cell_type": "code",
   "execution_count": 12,
   "metadata": {
    "collapsed": true
   },
   "outputs": [],
   "source": [
    "def drawBlackboard(dx,dy,dz):\n",
    "    xPeg = .03\n",
    "    zPeg = .05\n",
    "    pegs = []\n",
    "    pegs.append(COLOR(BLACK))    \n",
    "    pegs.append(CUBOID([xPeg,dy,zPeg]))\n",
    "    pegs.append(T([1,2,3])([dx-xPeg,0,0]))\n",
    "    pegs.append(CUBOID([xPeg,dy,zPeg]))\n",
    "    structure =[]\n",
    "    structure.append(COLOR(BLACK))    \n",
    "    structure.append(T([1,2,3])([0,dy*.5-zPeg*.5,zPeg]))\n",
    "    structure.append(CUBOID([xPeg,zPeg,dz*.7]))\n",
    "    structure.append(T([1,2,3])([dx-xPeg,0,0]))\n",
    "    structure.append(CUBOID([xPeg,zPeg,dz*.7]))\n",
    "    structure.append(T([1,2,3])([0,0,dz*.7*.5-zPeg*3*.5]))\n",
    "    structure.append(CUBOID([-(dx-2*xPeg),zPeg,zPeg*3]))\n",
    "    hinges = []\n",
    "    hinges.append(COLOR(BLACK))    \n",
    "    hinges.append(T([1,2,3])([xPeg,dy*.5-.005,dz*.7-.03+zPeg]))\n",
    "    hinges.append(CUBOID([xPeg,.01,.01]))\n",
    "    hinges.append(T([1,2,3])([dx-2*xPeg,0,0]))\n",
    "    hinges.append(CUBOID([-xPeg,.01,.01])) \n",
    "    x1 = 2*xPeg\n",
    "    y1 = dy*.5-.01\n",
    "    z1 = zPeg+dz*.7*.5+zPeg*3*.5*2\n",
    "    y2 = y1+.02\n",
    "    z3 = ((dz*.7-.035+zPeg)-x1)*3/2.-zPeg*1.5\n",
    "    x7 = dx-2*xPeg\n",
    "    vertexs = [[x1,y1,z1],[x1,y2,z1],[x1,y1,z3],[x1,y2,z3],[x7,y1,z3],[x7,y2,z3],[x7,y1,z1],[x7,y2,z1],[x1+zPeg,y1,z1+zPeg],[x1+zPeg,y2,z1+zPeg],[x1+zPeg,y1,z3-zPeg],[x1+zPeg,y2,z3-zPeg],[x7-zPeg,y1,z3-zPeg],[x7-zPeg,y2,z3-zPeg],[x7-zPeg,y1,z1+zPeg],[x7-zPeg,y2,z1+zPeg]]\n",
    "    cells = [[9,10,11,12,13,14,15,16]]\n",
    "    blackBoard = COLOR([0,0,0,1])(MKPOL([vertexs,cells,None]))\n",
    "    cells2 = [[1,2,3,4,9,10,11,12],[3,4,5,6,11,12,13,14],[5,6,7,8,13,14,15,16],[1,2,7,8,9,10,15,16]]\n",
    "    frame = COLOR([139./255.,69./255.,19./255.,1])(MKPOL([vertexs,cells2,None]))\n",
    "    return STRUCT([blackBoard,frame,STRUCT(pegs),STRUCT(structure),STRUCT(hinges)])"
   ]
  },
  {
   "cell_type": "markdown",
   "metadata": {},
   "source": [
    "Funzione che realizza l'armadio:"
   ]
  },
  {
   "cell_type": "code",
   "execution_count": 13,
   "metadata": {
    "collapsed": false
   },
   "outputs": [],
   "source": [
    "from pyplasm import *\n",
    "def drawWardrobe(dx,dy,dz):\n",
    "    structure =[]\n",
    "    xStr = .03\n",
    "    structure.append(COLOR([205./255.,133./255.,63./255.,1]))    \n",
    "    structure.append(CUBOID([xStr,dy,dz]))\n",
    "    structure.append(T([1,2,3])([dx-xStr,0,0]))\n",
    "    structure.append(CUBOID([xStr,dy,dz]))\n",
    "    structure.append(T([1,2,3])([0,dy*.5-xStr*.5,0]))\n",
    "    structure.append(CUBOID([-(dx-2*xStr),xStr,xStr*4]))    \n",
    "    structure.append(T([1,2,3])([0,dy*.5-xStr*.5,0]))\n",
    "    structure.append(CUBOID([-(dx-2*xStr),xStr,dz-xStr]))\n",
    "    structure.append(T([1,2,3])([0,-(dy-xStr),xStr*4]))    \n",
    "    structure.append(CUBOID([-(dx-2*xStr),dy,xStr]))    \n",
    "    structure.append(T([1,2,3])([0,0,dz-xStr-4*xStr]))    \n",
    "    structure.append(CUBOID([-(dx-2*xStr),dy,xStr]))\n",
    "    structure.append(T([1,2,3])([-0.002,0,-0.002]))   \n",
    "    structure.append(CUBOID([-((dx-2*xStr)*.5-.001),xStr,-(dz-6*xStr-.004)]))    \n",
    "    structure.append(T([1,2,3])([-((dx-2*xStr)*.5+.001),0,0]))\n",
    "    structure.append(CUBOID([-((dx-2*xStr)*.5-.005),xStr,-(dz-6*xStr-.004)]))    \n",
    "    structure.append(T([1,2,3])([.1,-xStr,-dz*.5]))\n",
    "    structure.append(COLOR([101/255.,67/255.,33/255.,1]))\n",
    "    structure.append(CUBOID([.1,.02,-.02]))\n",
    "    structure.append(T([1,2,3])([-.2,0,0]))\n",
    "    structure.append(CUBOID([-.1,.02,-.02]))    \n",
    "    return STRUCT([STRUCT(structure)])"
   ]
  },
  {
   "cell_type": "markdown",
   "metadata": {},
   "source": [
    "Funzione che realizza il banco:"
   ]
  },
  {
   "cell_type": "code",
   "execution_count": 14,
   "metadata": {
    "collapsed": false
   },
   "outputs": [],
   "source": [
    "def drawDesk(dx,dy,dz):#funzione che disegnaa il banco\n",
    "    heightPlan = .02#altezza del piano \n",
    "    rCylinder = .015#raggio piede \n",
    "    hStructure = .03#larghezza struttura di metallo \n",
    "    plan = []#costruzione piano \n",
    "    plan.append(COLOR([244./255.,164./255.,96./255.,1]))#marrone chiaro\n",
    "    plan.append(T([1,2,3])([0,0,dz-heightPlan]))#posizionato all'altezza corretta\n",
    "    plan.append(CUBOID([dx,dy,heightPlan]))\n",
    "    base = []#costruzione piano colorato di verde\n",
    "    base.append(COLOR([153./255.,1,153./255.,1]))#verde\n",
    "    base.append(T([1,2,3])([0,0,dz]))#posizionato all'altezza corretta\n",
    "    base.append(CUBOID([dx,dy,0.001]))\n",
    "    peg = CYLINDER([rCylinder,dz-heightPlan])(100)#gamba \n",
    "    pegs = []#costruzione gambe distanziate opportunamente in modo\n",
    "    pegs.append(COLOR(GRAY))# parametrico, di colore grigio\n",
    "    pegs.append(T([1,2,3])([dx*.06,dy*.1,0]))\n",
    "    pegs.append(peg)\n",
    "    pegs.append(T([1,2,3])([dx-2*(dx*.06),0,0]))\n",
    "    pegs.append(peg)\n",
    "    pegs.append(T([1,2,3])([0,dy-2*(dy*.1),0]))\n",
    "    pegs.append(peg)\n",
    "    pegs.append(T([1,2,3])([-(dx-2*(dx*.06)),0,0]))\n",
    "    pegs.append(peg)\n",
    "    structure = []#costruzione struttura in metallo di colore grigio\n",
    "    structure.append(COLOR(GRAY))#costruita sempre in modo parametrico \n",
    "    structure.append(T([1,2,3])([dx*.06,dy*.1-rCylinder,dz-heightPlan-hStructure]))\n",
    "    structure.append(CUBOID([dx-2*(dx*.06),hStructure,hStructure]))\n",
    "    structure.append(T([1,2,3])([0,dy-2*(dy*.1),0]))\n",
    "    structure.append(CUBOID([dx-2*(dx*.06),hStructure,hStructure]))\n",
    "    underDesk = []#costruzione sottobanco in metallo di colore grigio\n",
    "    underDesk.append(COLOR(GRAY))#costruita sempre in modo parametrico \n",
    "    underDesk.append(T([1,2,3])([dx*.06,dy*.1-rCylinder,dz-heightPlan-hStructure-dz*.15]))\n",
    "    underDesk.append(CUBOID([dx-2*(dx*.06),hStructure,hStructure]))\n",
    "    underDesk.append(T([1,2,3])([-rCylinder,hStructure-rCylinder,0]))    \n",
    "    underDesk.append(CUBOID([hStructure,dy-2*(dy*.1),hStructure]))\n",
    "    underDesk.append(T([1,2,3])([dx-2*(dx*.06),0,0]))\n",
    "    underDesk.append(CUBOID([hStructure,dy-2*(dy*.1),hStructure]))\n",
    "    underDesk.append(CUBOID([-(dx-2*(dx*.06)),dy-2*(dy*.1),.001]))\n",
    "    return STRUCT([STRUCT(underDesk),STRUCT(base),STRUCT(plan),STRUCT(structure),STRUCT(pegs)])"
   ]
  },
  {
   "cell_type": "markdown",
   "metadata": {},
   "source": [
    "Funzione che realizza l'appendiabiti:"
   ]
  },
  {
   "cell_type": "code",
   "execution_count": 15,
   "metadata": {
    "collapsed": false
   },
   "outputs": [],
   "source": [
    "def drawClothesHangers(dx,dy,dz):\n",
    "    structure = COLOR([205./255.,133./255.,63./255.,1])(CUBOID([dx,dy*.5,dz*2*.3]))\n",
    "    hanger = []\n",
    "    hanger.append(COLOR([101/255.,67/255.,33/255.,1]))\n",
    "    hanger.append(T([1,2,3])([dx*.5,dy,dz*2*.3]))\n",
    "    hanger.append(R([2,3])(PI/2)(CYLINDER([dz*1*.3,dy*.5])(100)))\n",
    "    hanger.append(T([1,2,3])([dx*.3,0,0]))\n",
    "    hanger.append(R([2,3])(PI/2)(CYLINDER([dz*1*.3,dy*.5])(100)))\n",
    "    hanger.append(T([1,2,3])([-dx*.6,0,0]))\n",
    "    hanger.append(R([2,3])(PI/2)(CYLINDER([dz*1*.3,dy*.5])(100)))\n",
    "    return STRUCT([structure,STRUCT(hanger)])"
   ]
  },
  {
   "cell_type": "code",
   "execution_count": 16,
   "metadata": {
    "collapsed": false
   },
   "outputs": [
    {
     "data": {
      "text/plain": [
       "<pyplasm.xgepy.Hpc; proxy of <Swig Object of type 'std::shared_ptr< Hpc > *' at 0x7fa54d4e8300> >"
      ]
     },
     "execution_count": 16,
     "metadata": {},
     "output_type": "execute_result"
    }
   ],
   "source": [
    "def disegnaAula():\n",
    "    cattedra = drawTeachingPost(2,.8,.7)\n",
    "    lavagna = drawBlackboard(1.2,.3,2)\n",
    "    banco = drawDesk(.6,.4,.7)\n",
    "    sedia = drawChair(.4,.4,.8)\n",
    "    appendiabiti = drawClothesHangers(.8,.05,.1)\n",
    "    armadio = drawWardrobe(2,.6,2.2)\n",
    "    draw = []\n",
    "    draw.append(T([1,2,3])([2.5,0,0]))\n",
    "    draw.append(R([1,2])(PI))\n",
    "    draw.append(T([1,2,3])([0,-1,0]))\n",
    "    draw.append(sedia)\n",
    "    draw.append(R([1,2])(PI))\n",
    "    draw.append(T([1,2,3])([-1.2,-.2,0]))\n",
    "    draw.append(cattedra)\n",
    "    draw.append(T([1,2,3])([2.5,-.5,0]))\n",
    "    draw.append(lavagna)\n",
    "    draw.append(T([1,2,3])([-4,2.5,0])) \n",
    "    draw.append(banco)\n",
    "    draw.append(T([1,2,3])([1.5,0,0])) \n",
    "    draw.append(banco)\n",
    "    draw.append(T([1,2,3])([1.5,0,0])) \n",
    "    draw.append(banco)\n",
    "    draw.append(T([1,2,3])([1.5,0,0]))     \n",
    "    draw.append(banco)\n",
    "    draw.append(T([1,2,3])([-4.5,0,0]))         \n",
    "    draw.append(T([1,2,3])([.1,.1,0])) \n",
    "    draw.append(sedia)\n",
    "    draw.append(T([1,2,3])([1.5,0,0])) \n",
    "    draw.append(sedia)\n",
    "    draw.append(T([1,2,3])([1.5,0,0])) \n",
    "    draw.append(sedia)\n",
    "    draw.append(T([1,2,3])([1.5,0,0])) \n",
    "    draw.append(sedia)\n",
    "    draw.append(T([1,2,3])([-4.6,-.1+1,0]))     \n",
    "    draw.append(banco)\n",
    "    draw.append(T([1,2,3])([1.5,0,0])) \n",
    "    draw.append(banco)\n",
    "    draw.append(T([1,2,3])([1.5,0,0])) \n",
    "    draw.append(banco)\n",
    "    draw.append(T([1,2,3])([1.5,0,0]))     \n",
    "    draw.append(banco)\n",
    "    draw.append(T([1,2,3])([-4.5,0,0]))         \n",
    "    draw.append(T([1,2,3])([.1,.1,0])) \n",
    "    draw.append(sedia)\n",
    "    draw.append(T([1,2,3])([1.5,0,0])) \n",
    "    draw.append(sedia)\n",
    "    draw.append(T([1,2,3])([1.5,0,0])) \n",
    "    draw.append(sedia)\n",
    "    draw.append(T([1,2,3])([1.5,0,0])) \n",
    "    draw.append(sedia)\n",
    "    draw.append(T([1,2,3])([-4.6,-.1+1,0]))     \n",
    "    draw.append(banco)\n",
    "    draw.append(T([1,2,3])([1.5,0,0])) \n",
    "    draw.append(banco)\n",
    "    draw.append(T([1,2,3])([1.5,0,0])) \n",
    "    draw.append(banco)\n",
    "    draw.append(T([1,2,3])([1.5,0,0]))     \n",
    "    draw.append(banco)\n",
    "    draw.append(T([1,2,3])([-4.5,0,0]))         \n",
    "    draw.append(T([1,2,3])([.1,.1,0])) \n",
    "    draw.append(sedia)\n",
    "    draw.append(T([1,2,3])([1.5,0,0])) \n",
    "    draw.append(sedia)\n",
    "    draw.append(T([1,2,3])([1.5,0,0])) \n",
    "    draw.append(sedia)\n",
    "    draw.append(T([1,2,3])([1.5,0,0])) \n",
    "    draw.append(sedia)\n",
    "    draw.append(T([1,2,3])([-4.6,-.1+1,0]))     \n",
    "    draw.append(banco)\n",
    "    draw.append(T([1,2,3])([1.5,0,0])) \n",
    "    draw.append(banco)\n",
    "    draw.append(T([1,2,3])([1.5,0,0])) \n",
    "    draw.append(banco)\n",
    "    draw.append(T([1,2,3])([1.5,0,0]))     \n",
    "    draw.append(banco)\n",
    "    draw.append(T([1,2,3])([-4.5,0,0]))         \n",
    "    draw.append(T([1,2,3])([.1,.1,0])) \n",
    "    draw.append(sedia)\n",
    "    draw.append(T([1,2,3])([1.5,0,0])) \n",
    "    draw.append(sedia)\n",
    "    draw.append(T([1,2,3])([1.5,0,0])) \n",
    "    draw.append(sedia)\n",
    "    draw.append(T([1,2,3])([1.5,0,0])) \n",
    "    draw.append(sedia)\n",
    "    draw.append(T([1,2,3])([-4.6,-.1+1,0]))     \n",
    "    draw.append(banco)\n",
    "    draw.append(T([1,2,3])([1.5,0,0])) \n",
    "    draw.append(banco)\n",
    "    draw.append(T([1,2,3])([1.5,0,0])) \n",
    "    draw.append(banco)\n",
    "    draw.append(T([1,2,3])([1.5,0,0]))     \n",
    "    draw.append(banco)\n",
    "    draw.append(T([1,2,3])([-4.5,0,0]))         \n",
    "    draw.append(T([1,2,3])([.1,.1,0])) \n",
    "    draw.append(sedia)\n",
    "    draw.append(T([1,2,3])([1.5,0,0])) \n",
    "    draw.append(sedia)\n",
    "    draw.append(T([1,2,3])([1.5,0,0])) \n",
    "    draw.append(sedia)\n",
    "    draw.append(T([1,2,3])([1.5,0,0])) \n",
    "    draw.append(sedia)\n",
    "    draw.append(T([1,2,3])([1.5,0,1.5]))\n",
    "    draw.append(R([1,2])(PI/2.))\n",
    "    draw.append(T([1,2,3])([-.4,0,0]))\n",
    "    draw.append(appendiabiti)\n",
    "    draw.append(T([1,2,3])([-.9,0,0]))\n",
    "    draw.append(appendiabiti)\n",
    "    draw.append(T([1,2,3])([-.9,0,0]))  \n",
    "    draw.append(appendiabiti)    \n",
    "    draw.append(T([1,2,3])([-.9,0,0]))  \n",
    "    draw.append(appendiabiti)    \n",
    "    draw.append(T([1,2,3])([-.9,0,0]))  \n",
    "    draw.append(appendiabiti)    \n",
    "    draw.append(T([1,2,3])([5.5,4.5,-1.5]))\n",
    "    draw.append(R([1,2])(-PI/2.))    \n",
    "    draw.append(armadio)\n",
    "    return VIEW(STRUCT(draw))\n",
    "disegnaAula()"
   ]
  },
  {
   "cell_type": "markdown",
   "metadata": {},
   "source": [
    "<h2>Screenshot dell'oggetto HPC ottenuto: cattedra professore</h2>\n"
   ]
  },
  {
   "cell_type": "markdown",
   "metadata": {},
   "source": [
    "![img text](scriAlto1.png)\n",
    "\n"
   ]
  },
  {
   "cell_type": "markdown",
   "metadata": {},
   "source": [
    "![img text](scriBasso.png)\n"
   ]
  },
  {
   "cell_type": "markdown",
   "metadata": {},
   "source": [
    "![img text](scriObli.png)\n"
   ]
  },
  {
   "cell_type": "markdown",
   "metadata": {},
   "source": [
    "![img text](scriRetro.png)\n"
   ]
  },
  {
   "cell_type": "markdown",
   "metadata": {},
   "source": [
    "<h2>Screenshot dell'oggetto HPC ottenuto: sedia</h2>"
   ]
  },
  {
   "cell_type": "markdown",
   "metadata": {},
   "source": [
    "![img text](sedia1.png)\n"
   ]
  },
  {
   "cell_type": "markdown",
   "metadata": {},
   "source": [
    "![img text](sedia2.png)\n"
   ]
  },
  {
   "cell_type": "markdown",
   "metadata": {},
   "source": [
    "![img text](sedia3.png)\n"
   ]
  },
  {
   "cell_type": "markdown",
   "metadata": {},
   "source": [
    "![img text](sedia4.png)\n"
   ]
  },
  {
   "cell_type": "markdown",
   "metadata": {},
   "source": [
    "<h2>Screenshot dell'oggetto HPC ottenuto: lavagna</h2>"
   ]
  },
  {
   "cell_type": "markdown",
   "metadata": {},
   "source": [
    "![img text](lavFronte.png)\n"
   ]
  },
  {
   "cell_type": "markdown",
   "metadata": {},
   "source": [
    "![img text](lavLato.png)\n"
   ]
  },
  {
   "cell_type": "markdown",
   "metadata": {},
   "source": [
    "![img text](lavObl.png)\n"
   ]
  },
  {
   "cell_type": "markdown",
   "metadata": {},
   "source": [
    "<h2>Screenshot dell'oggetto HPC ottenuto: armadio</h2>"
   ]
  },
  {
   "cell_type": "markdown",
   "metadata": {},
   "source": [
    "![img text](armFronte.png)"
   ]
  },
  {
   "cell_type": "markdown",
   "metadata": {},
   "source": [
    "![img text](armBasso.png)"
   ]
  },
  {
   "cell_type": "markdown",
   "metadata": {},
   "source": [
    "![img text](armObl.png)"
   ]
  },
  {
   "cell_type": "markdown",
   "metadata": {},
   "source": [
    "![img text](armRetro.png)"
   ]
  },
  {
   "cell_type": "markdown",
   "metadata": {},
   "source": [
    "<h2>Screenshot dell'oggetto HPC ottenuto: banco</h2>"
   ]
  },
  {
   "cell_type": "markdown",
   "metadata": {},
   "source": [
    "![img text](bancoFronte.png)"
   ]
  },
  {
   "cell_type": "markdown",
   "metadata": {},
   "source": [
    "![img text](bancoAlto.png)"
   ]
  },
  {
   "cell_type": "markdown",
   "metadata": {},
   "source": [
    "![img text](bancoObl.png)"
   ]
  },
  {
   "cell_type": "markdown",
   "metadata": {},
   "source": [
    "<h2>Screenshot dell'oggetto HPC ottenuto: appendiabiti</h2>"
   ]
  },
  {
   "cell_type": "markdown",
   "metadata": {},
   "source": [
    "![img text](abiFronte.png)"
   ]
  },
  {
   "cell_type": "markdown",
   "metadata": {},
   "source": [
    "![img text](abiObl.png)"
   ]
  },
  {
   "cell_type": "markdown",
   "metadata": {},
   "source": [
    "![img text](abiRetro.png)"
   ]
  },
  {
   "cell_type": "markdown",
   "metadata": {
    "collapsed": true
   },
   "source": [
    "<h2>Screenshot dell'oggetto HPC ottenuto: aula scolastica</h2>"
   ]
  },
  {
   "cell_type": "markdown",
   "metadata": {},
   "source": [
    "![img text](aula1.png)"
   ]
  },
  {
   "cell_type": "markdown",
   "metadata": {},
   "source": [
    "![img text](aula2.png)"
   ]
  },
  {
   "cell_type": "markdown",
   "metadata": {},
   "source": [
    "![img text](aula3.png)"
   ]
  },
  {
   "cell_type": "markdown",
   "metadata": {},
   "source": [
    "![img text](aula4.png)"
   ]
  },
  {
   "cell_type": "markdown",
   "metadata": {},
   "source": [
    "![img text](aula5.png)"
   ]
  },
  {
   "cell_type": "markdown",
   "metadata": {},
   "source": [
    "![img text](aula6.png)"
   ]
  },
  {
   "cell_type": "markdown",
   "metadata": {},
   "source": [
    "![img text](aula7.png)"
   ]
  },
  {
   "cell_type": "markdown",
   "metadata": {},
   "source": [
    "![img text](aula8.png)"
   ]
  }
 ],
 "metadata": {
  "kernelspec": {
   "display_name": "Python 2",
   "language": "python",
   "name": "python2"
  },
  "language_info": {
   "codemirror_mode": {
    "name": "ipython",
    "version": 2
   },
   "file_extension": ".py",
   "mimetype": "text/x-python",
   "name": "python",
   "nbconvert_exporter": "python",
   "pygments_lexer": "ipython2",
   "version": "2.7.6"
  }
 },
 "nbformat": 4,
 "nbformat_minor": 1
}
