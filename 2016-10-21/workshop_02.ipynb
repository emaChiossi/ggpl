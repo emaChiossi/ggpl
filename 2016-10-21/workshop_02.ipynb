{
 "cells": [
  {
   "cell_type": "markdown",
   "metadata": {},
   "source": [
    "<h1>Workshop n°2 di GGPL di Emanuele Chiossi, mat. 439468</h1>\n",
    "<h3>Parametric spatial building frame in reinforced concrete</h3>\n"
   ]
  },
  {
   "cell_type": "markdown",
   "metadata": {},
   "source": [
    "<h2>Descrizione</h2>"
   ]
  },
  {
   "cell_type": "markdown",
   "metadata": {},
   "source": [
    "L'obiettivo di questo workshop è quello di reallizzare una struttura in cemento armato, partendo dal risultato ottenuto dal workshop_01.\n",
    "\n",
    "Come prima cosa, occorre prendere una immagine dal web che mi dia un'idea su come realizzare la struttura, ho scelto la seguente:"
   ]
  },
  {
   "cell_type": "markdown",
   "metadata": {},
   "source": [
    "![alt text](model.jpg)\n"
   ]
  },
  {
   "cell_type": "markdown",
   "metadata": {},
   "source": [
    "L'input della funzione che costruisce la struttura è rappresentato da un file .csv, in cui nelle linee dispari ci sono i vettori di traslazione tridimensionali, mentre nelle linee pari ci sono i parametri di riferimento del telaio piano.\n",
    "\n",
    "Tramite le funzioni STRUCT, PROD e QUOTE si costruiscono i pilastri e le travi, il codice è semplice e la procedura adottata nel particolare per la costruzione dei singoli elementi è facilmente intuibile, ho seguito rigidamente le specifiche.\n",
    "\n",
    "Le variabili utilizzate sono le seguenti:\n",
    "<ul>\n",
    "<li>beamSection:(bx,bz) sezione della trave</li>\n",
    "<li>pillarSection:(px,py) sezione del pilastro</li>\n",
    "<li>distanceBetweenPillar: distanza tra i pilastri</li>\n",
    "<li>interstoryHeight: distanza tra i piani della struttura</li>\n",
    "<li>distance: distanza dal pilastro X all'origine degli assi</li>\n",
    "<li>x/y/zPillar: coordinate x,y,z pilastri</li>\n",
    "<li>x/y/zBeam: coordinate x,y,z travi</li>\n",
    "<li>pil,pillar: variabile che identifica i pilastri</li>\n",
    "<li>bea,beam: variabile che identifica le travi</li>\n",
    "<li>frame: variabile che identifica la struttura</li>\n",
    "<li>transactions: vettore delle traslazioni</li>\n",
    "<li>orizontalBeam: variabile che identifica le travi orizzontali</li>\n",
    "<li>structure: variabile che identifica la struttura senza travi orizzontali</li>\n",
    "<li>structure: variabile che identifica la struttura con travi orizzontali aggiunte</li>\n",
    "</ul>\n",
    "\n",
    "Altre decisioni implementative sono presenti sotto forma di commento nel codice."
   ]
  },
  {
   "cell_type": "markdown",
   "metadata": {},
   "source": [
    "Codice:"
   ]
  },
  {
   "cell_type": "code",
   "execution_count": 1,
   "metadata": {
    "collapsed": false
   },
   "outputs": [
    {
     "name": "stdout",
     "output_type": "stream",
     "text": [
      "Evaluating fenvs.py..\n",
      "...fenvs.py imported in 0.011629 seconds\n"
     ]
    }
   ],
   "source": [
    "from pyplasm import *\n",
    "import csv\n",
    "\n",
    "\"\"\"funzione che realizza un telaio piano prendendo in input la sezione della trave, la sezione del pilastro, la distanza tra i pilastri e la distanza tra i piani\"\"\"\n",
    "\n",
    "def createFrame(beamSection,pillarSection,distanceBetweenPillar,interstoryHeight):\n",
    "    px = pillarSection[0]\n",
    "    py = pillarSection[1]\n",
    "    bx = beamSection[0]\n",
    "    bz = beamSection[1]\n",
    "    xPillar = []\n",
    "    yPillar = []\n",
    "    zPillar = []\n",
    "    xBeam = []\n",
    "    yBeam = []\n",
    "    zBeam = [] \n",
    "    distance = 0  \n",
    "    \"\"\"ciclo che costruisce i pilastri alla giusta distanza\"\"\"\n",
    "    for i in distanceBetweenPillar:\n",
    "        xPillar = [px]\n",
    "        yPillar = yPillar + [py,-i]\n",
    "        distance = distance + i + py   \n",
    "    yPillar = yPillar + [py]\n",
    "    \"\"\"ciclo che costruisce le travi alla giusta distanza\"\"\"\n",
    "    for i in interstoryHeight:\n",
    "        zPillar = zPillar + [i,-bz] \n",
    "        xBeam = [bx]\n",
    "        yBeam = [distance+py]\n",
    "        zBeam = zBeam + [-i,bz]\n",
    "    pil = PROD([QUOTE(xPillar),QUOTE(yPillar)])\n",
    "    pillar = PROD([pil,QUOTE(zPillar)])\n",
    "    bea = PROD([QUOTE(xBeam),QUOTE(yBeam)])\n",
    "    beam = PROD([bea,QUOTE(zBeam)])\n",
    "    frame = STRUCT([pillar,beam])\n",
    "    return frame\n",
    "\n",
    "def createOrizzontalBeam(bx,bz,px,py,distanceBetweenPillar,interstoryHeight):\n",
    "    xBeam = [bx]\n",
    "    yBeam = []\n",
    "    zBeam = []\n",
    "    \"\"\"ciclo che costruisce le travi ortogonali a quelle costruite precedentemente\"\"\"\n",
    "    for i in interstoryHeight:\n",
    "        zBeam = zBeam + [-i,bz]\n",
    "    for i in distanceBetweenPillar:\n",
    "        yBeam = yBeam + [py,-i]\n",
    "    yBeam = yBeam + [py]\n",
    "    bea = PROD([QUOTE(xBeam),QUOTE(yBeam)])\n",
    "    beam = PROD([bea,QUOTE(zBeam)])\n",
    "    frame = STRUCT([beam])\n",
    "    return frame\n",
    "\n",
    "def ggpl_bone_structure(fileName):\n",
    "    \"\"\"L'input della funzione è rappresentato da un file .csv, in cui nelle linee dispari ci sono i vettori di traslazione tridimensionali,\n",
    "       e nelle linee pari ci sono i parametri di riferimento del telaio piano\"\"\"\n",
    "    x = []\n",
    "    y = []\n",
    "    z = []\n",
    "    frames = []\n",
    "    transactions = []\n",
    "    orizzontalBeam = []\n",
    "    structure = []\n",
    "    structure2 = []\n",
    "    Vx=0\n",
    "    \"\"\"apertura del file e elaborazione dei dati\"\"\"\n",
    "    with open(fileName,'rU') as csvfile:\n",
    "        reader = csv.DictReader(csvfile)\n",
    "        cont = 2 #contatore righe\n",
    "        for row in reader:\n",
    "            if(cont%2 != 0): #riga dispari\n",
    "                beamSection = row['x'].replace(\"(\",\"\").replace(\")\",\"\").split(\";\")\n",
    "                pillarSection = row['y'].replace(\"(\",\"\").replace(\")\",\"\").split(\";\")\n",
    "                beamSectionX = eval(beamSection[0])\n",
    "                beamSectionZ = eval(beamSection[1])\n",
    "                pillarSectionX = eval(pillarSection[0])\n",
    "                pillarSectionY = eval(pillarSection[1])\n",
    "                distanceBetweenPillar = []\n",
    "                for elem in row['z'].replace(\"[\",\"\").replace(\"]\",\"\").split(\";\"):\n",
    "                    distanceBetweenPillar.append(eval(elem))\n",
    "                interstoryHeight = []\n",
    "                for elem in row['k'].replace(\"[\",\"\").replace(\"]\",\"\").split(\";\"):\n",
    "                    interstoryHeight.append(eval(elem))\n",
    "                orizzontalBeam.append(createOrizzontalBeam(Vx,beamSectionZ,pillarSectionX,pillarSectionY,distanceBetweenPillar,interstoryHeight))                                                             \n",
    "                frames.append(createFrame((beamSectionX,beamSectionZ),(pillarSectionX,pillarSectionY),distanceBetweenPillar,interstoryHeight))\n",
    "            if(cont%2 == 0): #riga pari\n",
    "                Vx = x = eval(row['x'])\n",
    "                y = eval(row['y'])\n",
    "                z = eval(row['z'])\n",
    "                transactions.append(T([1,2,3])([x,y,z]))\n",
    "            cont = cont+1\n",
    "    i = 0\n",
    "    \"\"\"costruzione della espressione che verrà poi mandata in input alla funzione STRUCT\"\"\"\n",
    "    for elem in frames:\n",
    "        structure.append(transactions[i])\n",
    "        structure.append(frames[i])\n",
    "        if(i+1 < len(frames)):\n",
    "            structure2.append(transactions[i])\n",
    "            structure2.append(orizzontalBeam[i+1])\n",
    "        i = i+1\n",
    "    view1 = STRUCT(structure)\n",
    "    view2 = STRUCT(structure2)\n",
    "    VIEW(STRUCT([view1,view2]))\n",
    "\n",
    "\"\"\"lancio del programma\"\"\"\n",
    "ggpl_bone_structure(\"frame_data_439468.csv\")"
   ]
  },
  {
   "cell_type": "markdown",
   "metadata": {
    "collapsed": true
   },
   "source": [
    "<h2>Screenshot dell'oggetto HPC ottenuto: </h2>\n"
   ]
  },
  {
   "cell_type": "markdown",
   "metadata": {},
   "source": [
    "![alt text](structure.png)"
   ]
  }
 ],
 "metadata": {
  "anaconda-cloud": {},
  "kernelspec": {
   "display_name": "Python 2",
   "language": "python",
   "name": "python2"
  },
  "language_info": {
   "codemirror_mode": {
    "name": "ipython",
    "version": 2
   },
   "file_extension": ".py",
   "mimetype": "text/x-python",
   "name": "python",
   "nbconvert_exporter": "python",
   "pygments_lexer": "ipython2",
   "version": "2.7.6"
  }
 },
 "nbformat": 4,
 "nbformat_minor": 1
}
