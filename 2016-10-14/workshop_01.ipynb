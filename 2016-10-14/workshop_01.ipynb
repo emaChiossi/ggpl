{
 "cells": [
  {
   "cell_type": "markdown",
   "metadata": {},
   "source": [
    "<h1>Workshop n°1 di GGPL di Emanuele Chiossi, mat. 439468</h1>\n",
    "<h3>Simple parametric building structure in rinforced concrete</h3>"
   ]
  },
  {
   "cell_type": "markdown",
   "metadata": {},
   "source": [
    "L'obiettivo del primo homework è quello di realizzare una semplice struttura parametrica di un palazzo in cemento armato.<br><br>\n",
    "Nello specifico, la struttura deve essere composta da piloni, travi e basamenti. Come linea guida si è preso esempio dalla seguente immagine: \n",
    "![alt text](schema.png)<br>\n",
    "Ho deciso di realizzare la struttura come prodotto cartesiano di celle complesse (HPC Values) utilizzando le funzioni primitive di Pyplasm PROD e QUOTE: si creano inizialmente le liste relative alle dimensioni x,y,z di pilastri, travi e basamenti, poi si fanno le operazioni sopra citate per creare le strutture vere e proprie.<br><br>\n",
    "I parametri in ingresso alla funzione create, ovvero la funzione che crea la struttura, sono la sezione del pilastro, la sezione della trave, la distanza tra i pilastri e la distanza tra le travi. Le dimensioni dei basmenti sono ricavate da quelle dei piloni.<br><br>\n",
    "Ulteriori approfondimenti e specifiche del lavoro svolto sono presenti nel codice sotto forma di commento.<br><br>\n",
    "Il codice prodotto per questo homework è il seguente:"
   ]
  },
  {
   "cell_type": "code",
   "execution_count": null,
   "metadata": {
    "collapsed": false
   },
   "outputs": [],
   "source": [
    "from pyplasm import *\n",
    "from larlib import *\n",
    "\n",
    "def create(beamSection, pillarSection,distanceBetweenPillar, interstoryHeight):\n",
    "    \"\"\"\n",
    "    @create è una funzione che, dati i parametri in input, crea una struttura piana di pilastri, travi e basamenti\n",
    "    @param beamSection: sezione della trave [x,y]\n",
    "    @param pillarSection: sezione del pilastro [x,y]\n",
    "    @param distanceBetweenPillar: distanza che intercorre tra i pilastri\n",
    "    @param interstoryHeight: altezza che intercorre tra un piano ed il successivo\n",
    "    @return structure: si ritorna la struttura piana di pilastri, travi e basamenti\n",
    "    \"\"\"\n",
    "    #memorizzo in bx,bz le dimesioni della trave, mentre in px,py le dimensioni del pilastro\n",
    "    bx = beamSection[0]\n",
    "    bz = beamSection[1]\n",
    "    px = pillarSection[0]\n",
    "    py = pillarSection[1]\n",
    "    #calcolo la dimensione del basamento si x,y, z\n",
    "    baseX = px*3\n",
    "    baseY = py*3\n",
    "    baseZ = interstoryHeight[0]/3.\n",
    "    #definisco tre liste per i pilastri, tre liste per le travi e tre liste per basamenti, \n",
    "    #ognuna relativa alle dimensioni x,y e z\n",
    "    xPillars = [-((baseX/2.)-(bx/2.))]\n",
    "    yPillars = [-((baseY/2.)-(py/2.))]\n",
    "    zPillars = [-baseZ]\n",
    "    xBeams = [-((baseX/2.)-(bx/2.)),bx]\n",
    "    yBeams = [-((baseY/2.)-(py/2.))]\n",
    "    zBeams = [-baseZ]\n",
    "    xFootings = []\n",
    "    yFootings = []\n",
    "    zFootings = [baseZ]\n",
    "    length = 0\n",
    "    #costruisco le liste relative ai basamenti della struttura: i valori positivi sono i basamenti,\n",
    "    #i valori negativi sono gli spazi tra i basamenti\n",
    "    for i in distanceBetweenPillar:\n",
    "        yFootings = yFootings+[baseY,-(i-(baseY-py))]\n",
    "    xFootings = xFootings+[baseX]\n",
    "    yFootings = yFootings+[baseY]\n",
    "    #costruisco le liste relative ai pilastri della struttura: i valori positivi sono i pilastri,\n",
    "    #i valori negativi sono gli spazi tra i pilastri\n",
    "    for i in distanceBetweenPillar:\n",
    "        yPillars = yPillars+[py,-i]\n",
    "        length=length+i+py\n",
    "    xPillars = xPillars+[px]\n",
    "    #costruisco le liste relative alle travi della struttura: i valori positivi sono le travi,\n",
    "    #quelli negativi sono gli spazi tra le travi \n",
    "    for i in interstoryHeight:\n",
    "        zPillars = zPillars+[i,-bz]\n",
    "        zBeams = zBeams+[-i,bz]\n",
    "    yBeams = yBeams+[length+py] \n",
    "    yPillars = yPillars+[py]\n",
    "    #costruzione basamenti \n",
    "    appFootings = PROD([QUOTE(yFootings),QUOTE(zFootings)])\n",
    "    footings = COLOR([96/255.,96/255.,96/255.,1])(PROD([QUOTE(xFootings),appFootings])) \n",
    "    #costruzione piloni \n",
    "    appPillars = PROD([QUOTE(yPillars),QUOTE(zPillars)])\n",
    "    pillars = COLOR([160/255.,160/255.,160/255.,1])(PROD([QUOTE(xPillars),appPillars]))\n",
    "    #costruzione travi\n",
    "    appBeams = PROD([QUOTE(yBeams),QUOTE(zBeams)])\n",
    "    beams = COLOR([224/255.,224/255.,224/255.,1])(PROD([QUOTE(xBeams),appBeams]))\n",
    "    #costruzione struttura finale\n",
    "    structure = STRUCT([pillars,beams,footings])\n",
    "    return structure\n",
    "\n",
    "VIEW(create((.3,.3),(.3,.3),[1,1,3,2,1],[2,2,7,1,1]))"
   ]
  },
  {
   "cell_type": "markdown",
   "metadata": {},
   "source": [
    "<h2>Screenshot dell'oggetto HPC ottenuto: struttura in cemento armato composta da piloni, travi e basamenti</h2>"
   ]
  },
  {
   "cell_type": "markdown",
   "metadata": {},
   "source": [
    "![alt text](screen/f1.png)\n",
    "![alt text](screen/f2.png)\n",
    "![alt text](screen/f3.png)\n",
    "![alt text](screen/f4.png)"
   ]
  },
  {
   "cell_type": "markdown",
   "metadata": {},
   "source": [
    "<h2>Screenshot dell'oggetto HPC ottenuto: strutture bizzarre per testare la funzione</h2>"
   ]
  },
  {
   "cell_type": "code",
   "execution_count": null,
   "metadata": {
    "collapsed": true
   },
   "outputs": [],
   "source": [
    "![alt text](screen/p1.png)"
   ]
  }
 ],
 "metadata": {
  "kernelspec": {
   "display_name": "Python 2",
   "language": "python",
   "name": "python2"
  },
  "language_info": {
   "codemirror_mode": {
    "name": "ipython",
    "version": 2
   },
   "file_extension": ".py",
   "mimetype": "text/x-python",
   "name": "python",
   "nbconvert_exporter": "python",
   "pygments_lexer": "ipython2",
   "version": "2.7.6"
  }
 },
 "nbformat": 4,
 "nbformat_minor": 1
}
