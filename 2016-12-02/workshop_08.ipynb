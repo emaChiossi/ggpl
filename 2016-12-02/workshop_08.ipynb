{
 "cells": [
  {
   "cell_type": "markdown",
   "metadata": {},
   "source": [
    "<h1>Workshop n°8 di GGPL di Emanuele Chiossi, mat. 439468</h1>\n",
    "<h3>Solid models from .SVG drawings</h3>"
   ]
  },
  {
   "cell_type": "markdown",
   "metadata": {},
   "source": [
    "<h2>Descrizione</h2>"
   ]
  },
  {
   "cell_type": "markdown",
   "metadata": {},
   "source": [
    "Per questo homework l'obiettivo è quello di realizzare la struttura di una casa, con muri portanti, muri interni, spazi per porte e finestre partendo da una immagine di riferimento della planimetria della casa stessa.\n",
    "\n",
    "La prima operazione da efettuare è scaricare dal web l'immagine di riferimento, ho scelto la seguente:"
   ]
  },
  {
   "cell_type": "markdown",
   "metadata": {},
   "source": [
    "![text alt](image.jpg)"
   ]
  },
  {
   "cell_type": "markdown",
   "metadata": {},
   "source": [
    "Il secondo step consiste nel realizzare la struttura in 1D. Si è utilizzato l'editor Inkscape per \"ricalcare\" la struttura di riferimento e realizzare il modello.\n",
    "\n",
    "Si è scelto di realizzare il disegno su più livelli (layer): \n",
    "<ul>\n",
    "<li>il primo layer rappresenta i muri portanti della casa, ovvero i muri di cemento armato che sorreggono la struttura</li>\n",
    "<li>il secondo layer rappresenta i muri interni della casa, ovvero i muri che separano le varie stanze l'una dall'altra</li>\n",
    "<li>il terzo layer rappresenta le aree da dover lasciar libere nella struttura per poter inserire le porte</li>\n",
    "<li>il quarto layer rappresenta le aree da lasciar libere nella struttura per poter inserire le finestre</li>\n",
    "<li>il quinto layer rappresenta il pavimento della casa</li>\n",
    "</ul>\n",
    "\n",
    "Di seguito le immagini che illustrano i vari layer ed una immagine con tutti i layer sovrapposti:"
   ]
  },
  {
   "cell_type": "markdown",
   "metadata": {},
   "source": [
    "Perimetro:"
   ]
  },
  {
   "cell_type": "markdown",
   "metadata": {},
   "source": [
    "![text alt](perimetro.svg)"
   ]
  },
  {
   "cell_type": "markdown",
   "metadata": {},
   "source": [
    "Muri interni:"
   ]
  },
  {
   "cell_type": "markdown",
   "metadata": {},
   "source": [
    "![text alt](interni.svg)"
   ]
  },
  {
   "cell_type": "markdown",
   "metadata": {},
   "source": [
    "Box delle porte:"
   ]
  },
  {
   "cell_type": "markdown",
   "metadata": {},
   "source": [
    "![text alt](porta.svg)"
   ]
  },
  {
   "cell_type": "markdown",
   "metadata": {},
   "source": [
    "Box delle finestre:"
   ]
  },
  {
   "cell_type": "markdown",
   "metadata": {},
   "source": [
    "![text alt](finestre.svg)"
   ]
  },
  {
   "cell_type": "markdown",
   "metadata": {},
   "source": [
    "Pavimento:"
   ]
  },
  {
   "cell_type": "markdown",
   "metadata": {},
   "source": [
    "![text alt](pavim.svg)"
   ]
  },
  {
   "cell_type": "markdown",
   "metadata": {},
   "source": [
    "Layer sovrapposti (escluso pavimento):"
   ]
  },
  {
   "cell_type": "markdown",
   "metadata": {},
   "source": [
    "![text alt](nuovoProgetto.svg)"
   ]
  },
  {
   "cell_type": "markdown",
   "metadata": {},
   "source": [
    "Conclusi i vari layer, per ogni layer si è salvato un file .svg che rappresenta il disegno parziale della struttura.\n",
    "\n",
    "Ognuno di questi file è stato elaborato da: http://cvdlab.github.io/svg2lines/, come da specifiche, per ottenere i file .lines da elaborare nel programma.\n",
    "\n",
    "Con Plasm, tramite lines2lar, sono state lette le liste di punti e per ogni layer si è realizzata la struttura 3d, grazie alle funzioni POLYLINE, OFFSET, e QUOTE.\n",
    "\n",
    "Finita la costruzione, le varie strutture parziali sono state abbellite con texture (appropriate) prese dal web.\n",
    "\n",
    "Le texture utilizzate sono le seguenti:"
   ]
  },
  {
   "cell_type": "markdown",
   "metadata": {},
   "source": [
    "Muro portante in cortina:"
   ]
  },
  {
   "cell_type": "markdown",
   "metadata": {},
   "source": [
    "![text alt](wall5.jpg)"
   ]
  },
  {
   "cell_type": "markdown",
   "metadata": {},
   "source": [
    "Muri interni con tinta:"
   ]
  },
  {
   "cell_type": "markdown",
   "metadata": {},
   "source": [
    "![text alt](tinta.jpeg)"
   ]
  },
  {
   "cell_type": "markdown",
   "metadata": {},
   "source": [
    "Pavimento in parquet:"
   ]
  },
  {
   "cell_type": "markdown",
   "metadata": {},
   "source": [
    "![text alt](parquet.jpg)"
   ]
  },
  {
   "cell_type": "markdown",
   "metadata": {},
   "source": [
    "La lista delle variabili utilizzate nel codice è la seguente:\n",
    "<ul>\n",
    "<li>external: variabile in cui si memorizzano i punti ritornati da lines2lines</li>\n",
    "<li>plan: struttura 2D del layer opportunamente scalato</li>\n",
    "<li>height: variabile per portare la struttura in 3d</li>\n",
    "<li>plan3dPerimeter: struttura 3d che rappresenta il perimetro</li>\n",
    "<li>plan3dFloor: struttura 3d che rappresenta il pavimento</li>\n",
    "<li>plan3dInternal: struttura 3d che rappresenta i muri interni</li>\n",
    "<li>plan3dDoor: struttura 3d che rappresenta i box delle porte</li>\n",
    "<li>plan3dWindow: struttura 3d che rappresenta i box delle finestre</li>\n",
    "<li>sub: struttura 3d che rappresenta i box delle finestre e delle porte insieme</li>\n",
    "<li>structureInt: struttura 3d che rappresenta la struttura interna con box di porte e finestre</li>\n",
    "<li>structureEst: struttura 3d che rappresenta la struttura esterna con box di porte e finestre</li>\n",
    "</ul>\n",
    "\n",
    "Ulteriori descrizioni sono nel codice sotto forma di commento."
   ]
  },
  {
   "cell_type": "markdown",
   "metadata": {},
   "source": [
    "Il codice prodotto per questo homework è il seguente:"
   ]
  },
  {
   "cell_type": "code",
   "execution_count": 26,
   "metadata": {
    "collapsed": false,
    "scrolled": true
   },
   "outputs": [
    {
     "data": {
      "text/plain": [
       "<pyplasm.xgepy.Hpc; proxy of <Swig Object of type 'std::shared_ptr< Hpc > *' at 0x7fd9baffb390> >"
      ]
     },
     "execution_count": 26,
     "metadata": {},
     "output_type": "execute_result"
    }
   ],
   "source": [
    "from larlib import *\n",
    "from pyplasm import *\n",
    "\n",
    "#Costruzione della planimetria della casa\n",
    "external = lines2lines(\"perimetro2.lines\")#acquisizione dei punti dal file di interesse\n",
    "plan = STRUCT(AA(POLYLINE)(external))#costruzione 3d della struttura\n",
    "plan = OFFSET([10,10])(plan)#funzione per migliorare le dimensioni x,y e la visualizzazione\n",
    "heigth = QUOTE([100])#funzione utilizzata per alzare l'altezza della struttura\n",
    "plan3dPerimeter = PROD([plan,heigth])#oggetto 3d della planimetria\n",
    "\n",
    "#Costruzione del pavimento della casa\n",
    "external = lines2lines(\"pavim.lines\")#acquisizione dei punti dal file di interesse\n",
    "plan = STRUCT(AA(POLYLINE)(external))#costruzione 3d della struttura\n",
    "plan = OFFSET([10,10])(plan)#funzione per migliorare le dimensioni x,y e la visualizzazione\n",
    "heigth = QUOTE([1])#funzione utilizzata per alzare l'altezza della struttura\n",
    "plan3dFloor = PROD([plan,heigth])#oggetto 3d del pavimento\n",
    "plan3dFloor = TEXTURE(\"floor.jpg\")(plan3dFloor)\n",
    "\n",
    "#Costruzione deli muri interni\n",
    "external = lines2lines(\"interni.lines\")#acquisizione dei punti dal file di interesse\n",
    "plan = STRUCT(AA(POLYLINE)(external))#costruzione 3d della struttura\n",
    "plan = OFFSET([5,5])(plan)#funzione per migliorare le dimensioni x,y e la visualizzazione\n",
    "heigth = QUOTE([100])#funzione utilizzata per alzare l'altezza della struttura\n",
    "plan3dInternal = PROD([plan,heigth])#oggetto 3d dei muri interni\n",
    "\n",
    "#Costruzione dei box per l'alloggiamento delle porte\n",
    "external = lines2lines(\"doors.lines\")#acquisizione dei punti dal file di interesse\n",
    "plan = STRUCT(AA(POLYLINE)(external))#costruzione 3d della struttura\n",
    "plan = OFFSET([14,20])(plan)#funzione per migliorare le dimensioni x,y e la visualizzazione\n",
    "heigth = QUOTE([90])#funzione utilizzata per alzare l'altezza della struttura\n",
    "plan3dDoor = PROD([plan,heigth])#oggetto 3d del box delle porte\n",
    "\n",
    "#Costruzione del box per l'alloggiamento delle finestre\n",
    "external = lines2lines(\"windows.lines\")#acquisizione dei punti dal file di interesse\n",
    "plan = STRUCT(AA(POLYLINE)(external))#costruzione 3d della struttura\n",
    "plan = OFFSET([45,12])(plan)#funzione per migliorare le dimensioni x,y e la visualizzazione\n",
    "heigth = QUOTE([40])#funzione utilizzata per alzare l'altezza della struttura\n",
    "plan3dWindow = PROD([plan,heigth])#oggetto 3d dei box delle finestre\n",
    "window = []#oggetto finestra\n",
    "window.append(T([1,2,3])([0,0,40]))#traslazione dei box verso l'alto\n",
    "window.append(plan3dWindow)#oggetto 3d del box delle finestre\n",
    "\n",
    "#si sottraggono i box di finestre e porte dalla struttura di muri interni e planimetria, poi si visualizzano\n",
    "sub = STRUCT([STRUCT(window),plan3dDoor])#box di finestre e porte da sottrarre\n",
    "structureEst =DIFFERENCE([plan3dPerimeter,sub])#struttura esterna complessiva di spazi per porte e finestre\n",
    "structureInt =DIFFERENCE([plan3dInternal,sub])#struttura interna complessiva di spazi per porte e finestre\n",
    "#visualizzazione del tutto\n",
    "VIEW(STRUCT([TEXTURE(\"wall5.jpg\")(structureEst),TEXTURE(\"parquet.jpg\")(plan3dFloor),TEXTURE(\"tinta.jpeg\")(structureInt)]))"
   ]
  },
  {
   "cell_type": "markdown",
   "metadata": {},
   "source": [
    "<h2>Screenshot dell'oggetto HPC ottenuto: solido 3d della struttura della casa</h2>"
   ]
  },
  {
   "cell_type": "markdown",
   "metadata": {
    "collapsed": true
   },
   "source": [
    "![text alt](foto1.png)"
   ]
  },
  {
   "cell_type": "markdown",
   "metadata": {
    "collapsed": true
   },
   "source": [
    "![text alt](foto2.png)"
   ]
  },
  {
   "cell_type": "markdown",
   "metadata": {
    "collapsed": true
   },
   "source": [
    "![text alt](foto3.png)"
   ]
  },
  {
   "cell_type": "markdown",
   "metadata": {
    "collapsed": true
   },
   "source": [
    "![text alt](foto4.png)"
   ]
  },
  {
   "cell_type": "markdown",
   "metadata": {
    "collapsed": true
   },
   "source": [
    "![text alt](foto5.png)"
   ]
  },
  {
   "cell_type": "markdown",
   "metadata": {
    "collapsed": true
   },
   "source": [
    "![text alt](foto6.png)"
   ]
  },
  {
   "cell_type": "markdown",
   "metadata": {
    "collapsed": true
   },
   "source": [
    "![text alt](foto7.png)"
   ]
  },
  {
   "cell_type": "markdown",
   "metadata": {
    "collapsed": true
   },
   "source": [
    "![text alt](foto8.png)"
   ]
  },
  {
   "cell_type": "markdown",
   "metadata": {
    "collapsed": true
   },
   "source": [
    "![text alt](foto9.png)"
   ]
  }
 ],
 "metadata": {
  "kernelspec": {
   "display_name": "Python 2",
   "language": "python",
   "name": "python2"
  },
  "language_info": {
   "codemirror_mode": {
    "name": "ipython",
    "version": 2
   },
   "file_extension": ".py",
   "mimetype": "text/x-python",
   "name": "python",
   "nbconvert_exporter": "python",
   "pygments_lexer": "ipython2",
   "version": "2.7.6"
  }
 },
 "nbformat": 4,
 "nbformat_minor": 1
}
