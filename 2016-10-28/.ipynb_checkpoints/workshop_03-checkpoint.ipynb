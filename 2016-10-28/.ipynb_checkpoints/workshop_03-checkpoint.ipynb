{
 "cells": [
  {
   "cell_type": "markdown",
   "metadata": {},
   "source": [
    "<h1>Workshop n°3 di GGPL di Emanuele Chiossi, mat. 439468</h1>\n",
    "<h3>Building stairs</h3>"
   ]
  },
  {
   "cell_type": "markdown",
   "metadata": {},
   "source": [
    "L'obiettivo del workshop numero 3 è quello di realizzare la struttura di una scalinata, più o meno particolare. Come spunto si è presa in rete seguente figura, al quale sono state aggiunte un corrimano e la copertura in legno del gradino."
   ]
  },
  {
   "cell_type": "markdown",
   "metadata": {},
   "source": [
    "![alt text](scala.jpeg)"
   ]
  },
  {
   "cell_type": "markdown",
   "metadata": {},
   "source": [
    "Le variabili utilizzate per realizzare la scalinata sono le seguenti:\n",
    "<ul>\n",
    "<li>dx,dy,dz: spazio disponibile per costruire la scala</li>\n",
    "<li>platformX: dimensione X del pianerottolo</li>\n",
    "<li>platformY: dimensione Y del pianerottolo</li>\n",
    "<li>idealTread: dimensione ideale pedata</li>\n",
    "<li>idealRiser: dimensione ideale alzata</li>\n",
    "<li>treadWidth: dimensione Y della singola rampa di scale</li>\n",
    "<li>halfDz: dimensione Z della singola rampa di scale</li>\n",
    "<li>treadTot: dimensione X della rampa di scale senza il pianerottolo</li>\n",
    "<li>steps: numero gradini</li>\n",
    "<li>marbleX: dimensione x della copertura del gradino</li>\n",
    "<li>marbleZ: dimensione z della copertura del gradino</li>\n",
    "<li>hHandrail: dimensione z del corrimano</li>\n",
    "<li>yHandrail: dimensione y del corrimano</li>\n",
    "<li>handrail1: corrimano interno</li>\n",
    "<li>handrail2: corrimano esterno</li>\n",
    "<li>tread: pedata reale</li>\n",
    "<li>riser: alzata reale</li>\n",
    "<li>stairs: scale</li>\n",
    "<li>diagonal: sostegno scale</li>\n",
    "<li>vertexs, cells: vertici e celle che compongono diagonal</li>\n",
    "</ul>\n",
    "\n",
    "Per la realizzazione del sostegno della scala (diagonal), si utilizza la funzione MKPOL, metre per gradini, corrimano e pianerottoli si utilizza la funzione CUBOID.\n",
    "\n",
    "Per la realizzazione della scalinata e del corrimano si è costruito un pezzetto alla volta e per ogni step si applicano le necessarie traslazioni e/o rotazioni.\n",
    "\n",
    "Per concludere, si è confrontato lo spazio effettivo occupato dalla scala con quello a disposizione.\n",
    "\n",
    "Ulteriori dettagli implementativi è possibile trovarli nei commenti del codice."
   ]
  },
  {
   "cell_type": "markdown",
   "metadata": {},
   "source": [
    "Codice:"
   ]
  },
  {
   "cell_type": "code",
   "execution_count": 1,
   "metadata": {
    "collapsed": false
   },
   "outputs": [
    {
     "name": "stdout",
     "output_type": "stream",
     "text": [
      "Evaluating fenvs.py..\n",
      "...fenvs.py imported in 0.011363 seconds\n",
      "[6.000000953674316, 3.0, 6.030000686645508]\n"
     ]
    }
   ],
   "source": [
    "from pyplasm import *\n",
    "from larlib import *\n",
    "\n",
    "\"\"\"Funzione che realizza il disegno di una scalinata prendendo\n",
    "   in input i valori dx,dy e dz dello spazio a disposizione\"\"\"\n",
    "\n",
    "def ggpl_building_stairs(dx,dy,dz):\n",
    "    #Variabili principali\n",
    "    platformX = 1   #dimensione X del pianerottolo\n",
    "    platformY = dy   #dimensione Y del pianerottolo,\n",
    "    idealTread = .29   #dimensione ideale pedata\n",
    "    idealRiser = .17   #dimensione ideale alzata\n",
    "    treadWidth = DIV([dy,2])   #dimensione Y della singola rampa di scale\n",
    "    halfDz = DIV([dz,2])   #dimensione Z della singola rampa di scale\n",
    "    treadTot = dx - 2*platformX   #dimensione X della rampa di scale senza il pianerottolo\n",
    "    steps = modf(treadTot/idealTread)[1]   #numero gradini\n",
    "    tread = DIV([treadTot,steps])  #pedata reale\n",
    "    riser = DIV([halfDz,steps+1])  #alzata reale\n",
    "    marbleZ = .03  #altezza della copertura della pedata\n",
    "    marbleX = tread+.03  #dimensione x della copertura della pedata\n",
    "    hHandrail = .05\n",
    "    yHandrail = .05\n",
    "    handrail1 = []  #corrimano esterno\n",
    "    handrail2 = []  #corrimano interno\n",
    "    stairs = []   #scale\n",
    "    diagonal = []  #sostegno scale\n",
    "    vertex = [[tread,0,0],[tread,0,riser],[2*tread,0,riser],[tread,treadWidth,0],[tread,treadWidth,riser],[2*tread,treadWidth,riser]]\n",
    "    cells = [1,2,3,4,5,6]\n",
    "    diagonal.append(T([1,3])([platformX,riser]));\n",
    "    diagonal.append(MKPOL([vertex,[cells],None]))\n",
    "    #costruzione dei corrimano\n",
    "    vertexHandrail1 = [[0,0,0],[tread,0,riser],[0,0,hHandrail],[tread,0,riser+hHandrail],[0,yHandrail,0],[tread,yHandrail,riser],[0,yHandrail,hHandrail],[tread,yHandrail,riser+hHandrail]]\n",
    "    vertexHandrail2 = [[0,treadWidth,0],[tread,treadWidth,riser],[0,treadWidth,hHandrail],[tread,treadWidth,riser+hHandrail],[0,treadWidth-yHandrail,0],[tread,treadWidth-yHandrail,riser],[0,treadWidth-yHandrail,hHandrail],[tread,treadWidth-yHandrail,riser+hHandrail]]\n",
    "    cellsHandrail = [1,2,3,4,5,6,7,8]\n",
    "    #si inserisce il sostegno iniziale del corrimano\n",
    "    handrail1.append(T([1,3])([platformX-.1,1.2]))\n",
    "    handrail1.append(CUBOID([-yHandrail,yHandrail,-1.2+riser]))\n",
    "    handrail1.append(T([1])([-yHandrail]))\n",
    "    handrail1.append(CUBOID([.1,yHandrail,hHandrail]))\n",
    "    handrail1.append(T([1])([.1]))    \n",
    "    handrail1.append(MKPOL([vertexHandrail1,[cellsHandrail],None]))\n",
    "    handrail2.append(T([1,2,3])([platformX,treadWidth,1.2]))\n",
    "    handrail2.append(CUBOID([-.1,-yHandrail,hHandrail]))\n",
    "    handrail2.append(T([1,3])([-.1,hHandrail]))\n",
    "    handrail2.append(CUBOID([yHandrail,-yHandrail,-1.2+riser-hHandrail]))   \n",
    "    handrail2.append(T([1,2,3])([.1,-treadWidth,-hHandrail]))\n",
    "    handrail2.append(MKPOL([vertexHandrail2,[cellsHandrail],None]))\n",
    "    #Costruzione del primo pianerottolo\n",
    "    stairs.append(CUBOID([platformX,treadWidth,riser]))\n",
    "    stairs.append(T([1,2,3])([platformX,0,riser]))\n",
    "    #Ciclo che costruisce la prima rampa di scale con il rispettivo sostegno, copertura e corrimano\n",
    "    for x in range(0,int(steps)):\n",
    "        stairs.append(CUBOID([tread,treadWidth,riser]))\n",
    "        stairs.append(T([1,2,3])([-.03,0,riser]))\n",
    "        stairs.append(COLOR([205/255.,133/255.,63/255.,1])(CUBOID([marbleX,treadWidth,marbleZ])))\n",
    "        stairs.append(T([1,2,3])([.03,0,-riser]))        \n",
    "        stairs.append(T([1,2,3])([tread,0,riser]))\n",
    "        diagonal.append(MKPOL([vertex,[cells],None]))\n",
    "        diagonal.append(T([1,2,3])([tread,0,riser]))\n",
    "        handrail1.append(MKPOL([vertexHandrail1,[cellsHandrail],None]))\n",
    "        handrail1.append(T([1,2,3])([tread,0,riser]))\n",
    "        handrail2.append(MKPOL([vertexHandrail2,[cellsHandrail],None]))\n",
    "        handrail2.append(T([1,2,3])([tread,0,riser]))\n",
    "    stairs.append(CUBOID([platformX,platformY,riser])) #si inserisce il pianerottolo\n",
    "    stairs.append(R([1,2])(PI)) #rotazione 180° per costruire la seconda rampa nel verso opposto\n",
    "    stairs.append(T([1,2,3])([0,-2*treadWidth,riser])) #traslazione per spostare la seconda scala al posto giusto\n",
    "    diagonal.append(R([1,2])(PI)) #rotazione 180° per costruire il sostegno della seconda rampa nel verso opposto\n",
    "    diagonal.append(T([1,2,3])([0,-2*treadWidth,riser]))#traslazione per spostare il secondo sostegno al posto giusto\n",
    "    handrail1.append(CUBOID([yHandrail,yHandrail,-1.2+riser+marbleZ]))\n",
    "    handrail1.append(CUBOID([yHandrail,yHandrail,yHandrail]))\n",
    "    handrail1.append(T(1)(yHandrail))\n",
    "    handrail1.append(CUBOID([platformX-yHandrail,yHandrail,hHandrail]))#costruzione dei corrimano sul pianerottolo a metà scala\n",
    "    handrail1.append(T([1,2])([platformX-yHandrail,yHandrail]))\n",
    "    handrail1.append(CUBOID([yHandrail,-yHandrail,-1.2+2*riser]))\n",
    "    handrail1.append(CUBOID([yHandrail,-yHandrail,yHandrail]))\n",
    "    handrail1.append(CUBOID([yHandrail,platformY-2*yHandrail,hHandrail]))    \n",
    "    handrail1.append(T([1,2])([0,platformY-yHandrail]))\n",
    "    handrail1.append(CUBOID([yHandrail,-yHandrail,-1.2+2*riser]))\n",
    "    handrail1.append(CUBOID([yHandrail,-yHandrail,yHandrail]))\n",
    "    handrail1.append(CUBOID([-platformX+yHandrail,-yHandrail,hHandrail]))\n",
    "    handrail1.append(T([1])([-platformX+yHandrail]))\n",
    "    handrail1.append(CUBOID([-yHandrail,-yHandrail,riser+yHandrail]))\n",
    "    handrail1.append(T([1,3])([-yHandrail,riser]))    \n",
    "    handrail1.append(R([1,2])(PI))\n",
    "    handrail2.append(T(2)(treadWidth-yHandrail))\n",
    "    handrail2.append(CUBOID([yHandrail,2*yHandrail,hHandrail]))\n",
    "    handrail2.append(T([2,3])([yHandrail,hHandrail]))\n",
    "    handrail2.append(CUBOID([yHandrail,yHandrail,riser]))\n",
    "    handrail2.append(R([1,2])(PI))\n",
    "    handrail2.append(T([1,2,3])([0,-treadWidth,riser-yHandrail]))\n",
    "    #Ciclo che costruisce la seconda scala, altro codice come nel primo ciclo\n",
    "    for x in range(0,int(steps)):\n",
    "        stairs.append(CUBOID([tread,treadWidth,riser]))\n",
    "        stairs.append(T([1,2,3])([-.03,0,riser]))\n",
    "        stairs.append(COLOR([205/255.,133/255.,63/255.,1])(CUBOID([marbleX,treadWidth,marbleZ])))\n",
    "        stairs.append(T([1,2,3])([.03,0,-riser]))        \n",
    "        stairs.append(T([1,2,3])([tread,0,riser]))\n",
    "        if(x<(steps-1)):\n",
    "            diagonal.append(MKPOL([vertex,[cells],None]))\n",
    "            diagonal.append(T([1,2,3])([tread,0,riser]))\n",
    "            handrail1.append(MKPOL([vertexHandrail1,[cellsHandrail],None]))\n",
    "            handrail1.append(T([1,2,3])([tread,0,riser]))\n",
    "            handrail2.append(MKPOL([vertexHandrail2,[cellsHandrail],None]))\n",
    "            handrail2.append(T([1,2,3])([tread,0,riser]))\n",
    "    handrail1.append(CUBOID([yHandrail,yHandrail,-1.2+2*riser+marbleZ]))\n",
    "    handrail1.append(CUBOID([yHandrail,yHandrail,yHandrail]))\n",
    "    handrail2.append(T(2)(treadWidth))\n",
    "    handrail2.append(CUBOID([yHandrail,-yHandrail,-1.2+2*riser+marbleZ]))\n",
    "    handrail2.append(CUBOID([yHandrail,-yHandrail,yHandrail]))\n",
    "    stairs.append(T(3)(-riser/2.))\n",
    "    stairs.append(CUBOID([platformX,treadWidth,-riser]))        \n",
    "    \n",
    "    \n",
    "    #Verifica delle misure\n",
    "    print(SIZE([1,2,3])(BOX([1,2,3])(STRUCT(stairs))))\n",
    "    \n",
    "    VIEW(STRUCT([STRUCT(diagonal),STRUCT(stairs),COLOR([105/255.,105/255.,105/255.,1])(STRUCT(handrail1)),COLOR([105/255.,105/255.,105/255.,1])(STRUCT(handrail2))]))\n",
    "\n",
    "ggpl_building_stairs(6,3,6) "
   ]
  },
  {
   "cell_type": "markdown",
   "metadata": {},
   "source": [
    "# Screenshots dell'oggetto HPC ottenuto:"
   ]
  },
  {
   "cell_type": "markdown",
   "metadata": {},
   "source": [
    "![alt text](screen/f1.png)\n",
    "![alt text](screen/f2.png)\n",
    "![alt text](screen/f3.png)\n",
    "![alt text](screen/f4.png)"
   ]
  },
  {
   "cell_type": "code",
   "execution_count": null,
   "metadata": {
    "collapsed": true
   },
   "outputs": [],
   "source": []
  }
 ],
 "metadata": {
  "anaconda-cloud": {},
  "kernelspec": {
   "display_name": "Python 2",
   "language": "python",
   "name": "python2"
  },
  "language_info": {
   "codemirror_mode": {
    "name": "ipython",
    "version": 2
   },
   "file_extension": ".py",
   "mimetype": "text/x-python",
   "name": "python",
   "nbconvert_exporter": "python",
   "pygments_lexer": "ipython2",
   "version": "2.7.6"
  }
 },
 "nbformat": 4,
 "nbformat_minor": 1
}
