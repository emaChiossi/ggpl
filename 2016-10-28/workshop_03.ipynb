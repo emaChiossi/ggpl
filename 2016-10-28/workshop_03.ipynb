{
 "cells": [
  {
   "cell_type": "markdown",
   "metadata": {},
   "source": [
    "# Building stairs"
   ]
  },
  {
   "cell_type": "markdown",
   "metadata": {},
   "source": [
    "Prendendo spunto dalla figura seguente presa in rete, si vuole realizzare la struttura di una scalinata. Per semplicità di visualizzazione sono stati omessi il primo e l'ultimo pianerottolo."
   ]
  },
  {
   "cell_type": "markdown",
   "metadata": {},
   "source": [
    "![alt text](scala.jpeg)"
   ]
  },
  {
   "cell_type": "markdown",
   "metadata": {},
   "source": [
    "# Programma Python Workshop_03:"
   ]
  },
  {
   "cell_type": "code",
   "execution_count": 1,
   "metadata": {
    "collapsed": false
   },
   "outputs": [
    {
     "name": "stdout",
     "output_type": "stream",
     "text": [
      "Evaluating fenvs.py..\n",
      "...fenvs.py imported in 0.012155 seconds\n",
      "[6.000000476837158, 3.0, 6.000002384185791]\n"
     ]
    }
   ],
   "source": [
    "from pyplasm import *\n",
    "from larlib import *\n",
    "\n",
    "\"\"\"Funzione che realizza il disegno di una scalinata prendendo\n",
    "   in input i valori dx,dy e dz dello spazio a disposizione\"\"\"\n",
    "\n",
    "def ggpl_building_stairs(dx,dy,dz):\n",
    "    #Variabili principali\n",
    "    platformX = 1\n",
    "    platformY = dy\n",
    "    idealTread = .29\n",
    "    idealRiser = .17\n",
    "    treadWidth = DIV([dy,2])\n",
    "    halfDz = DIV([dz,2])\n",
    "    treadTot = dx - platformX\n",
    "    steps = modf(treadTot/idealTread)[1]\n",
    "    tread = DIV([treadTot,steps])\n",
    "    riser = DIV([halfDz,steps+.5])\n",
    "\n",
    "    #Ciclo che costruisce la prima rampa\n",
    "    stairs = []\n",
    "    diagonal = []\n",
    "    vertex = [[tread,0,0],[tread,0,riser],[2*tread,0,riser],[tread,treadWidth,0],[tread,treadWidth,riser],[2*tread,treadWidth,riser]]\n",
    "    cells = [1,2,3,4,5,6]\n",
    "    diagonal.append(MKPOL([vertex,[cells],None]))\n",
    "    for x in range(0,int(steps)):\n",
    "        stairs.append(CUBOID([tread,treadWidth,riser]))\n",
    "        stairs.append(T([1,2,3])([tread,0,riser]))\n",
    "        diagonal.append(MKPOL([vertex,[cells],None]))\n",
    "        diagonal.append(T([1,2,3])([tread,0,riser]))\n",
    "    stairs.append(CUBOID([platformX,platformY,riser]))\n",
    "    stairs.append(R([1,2])(PI))\n",
    "    stairs.append(T([1,2,3])([0,-2*treadWidth,riser]))\n",
    "    diagonal.append(R([1,2])(PI))\n",
    "    diagonal.append(T([1,2,3])([0,-2*treadWidth,riser]))\n",
    "\n",
    "    #Ciclo che costruisce la seconda rampa\n",
    "    for x in range(0,int(steps)):\n",
    "        stairs.append(CUBOID([tread,treadWidth,riser]))\n",
    "        stairs.append(T([1,2,3])([tread,0,riser]))\n",
    "        if(x<(steps-1)):\n",
    "            diagonal.append(MKPOL([vertex,[cells],None]))\n",
    "            diagonal.append(T([1,2,3])([tread,0,riser]))\n",
    "    stairs.append(R([1,2])(PI))\n",
    "\n",
    "    #Verifica delle misure\n",
    "    print(SIZE([1,2,3])(BOX([1,2,3])(STRUCT(stairs))))\n",
    "    \n",
    "    VIEW(STRUCT([STRUCT(diagonal),STRUCT(stairs)]))\n",
    "\n",
    "ggpl_building_stairs(6,3,6) "
   ]
  },
  {
   "cell_type": "markdown",
   "metadata": {},
   "source": [
    "# Screenshots dell'oggetto HPC ottenuto:"
   ]
  },
  {
   "cell_type": "markdown",
   "metadata": {},
   "source": [
    "![alt text](image.png)"
   ]
  },
  {
   "cell_type": "markdown",
   "metadata": {},
   "source": [
    "![alt text](image2.png)"
   ]
  }
 ],
 "metadata": {
  "anaconda-cloud": {},
  "kernelspec": {
   "display_name": "Python 2",
   "language": "python",
   "name": "python2"
  },
  "language_info": {
   "codemirror_mode": {
    "name": "ipython",
    "version": 2
   },
   "file_extension": ".py",
   "mimetype": "text/x-python",
   "name": "python",
   "nbconvert_exporter": "python",
   "pygments_lexer": "ipython2",
   "version": "2.7.6"
  }
 },
 "nbformat": 4,
 "nbformat_minor": 1
}
