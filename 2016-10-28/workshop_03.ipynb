{
 "cells": [
  {
   "cell_type": "markdown",
   "metadata": {},
   "source": [
    "# Building stairs"
   ]
  },
  {
   "cell_type": "markdown",
   "metadata": {},
   "source": [
    "Prendendo spunto dalla figura seguente presa in rete, si vuole realizzare la struttura di una scalinata"
   ]
  },
  {
   "cell_type": "markdown",
   "metadata": {},
   "source": [
    "![alt text](stairsModel.gif)"
   ]
  },
  {
   "cell_type": "markdown",
   "metadata": {},
   "source": [
    "# Programma Python Workshop_03:"
   ]
  },
  {
   "cell_type": "code",
   "execution_count": null,
   "metadata": {
    "collapsed": false
   },
   "outputs": [
    {
     "name": "stdout",
     "output_type": "stream",
     "text": [
      "[6.0, 3.0, 3.509999990463257]\n"
     ]
    }
   ],
   "source": [
    "from pyplasm import *\n",
    "from larlib import *\n",
    "\n",
    "\"\"\"Funzione che realizza il disegno di una scalinata prendendo\n",
    "   in input i valori dx,dy e dz dello spazio a disposizione\"\"\"\n",
    "\n",
    "def ggpl_building_stairs(dx,dy,dz):\n",
    "    #Variabili principali\n",
    "    platformX = 1\n",
    "    platformY = dy\n",
    "    idealTread = .29\n",
    "    idealRiser = .17\n",
    "    treadWidth = DIV([dy,2])\n",
    "    halfDz = DIV([dz,2])\n",
    "    treadTot = dx - 2*platformX\n",
    "    restoTread = modf(treadTot/idealTread)[0]\n",
    "    steps = modf(treadTot/idealTread)[1]\n",
    "    tread = DIV([treadTot,steps])\n",
    "    riser = DIV([halfDz,steps+1])\n",
    "\n",
    "    #Ciclo che costruisce la prima rampa\n",
    "    stairs = []\n",
    "    for x in range(0,int(steps)):\n",
    "        stairs.append(CUBOID([tread,treadWidth,riser]))\n",
    "        stairs.append(T([1,2,3])([tread,0,riser]))\n",
    "    stairs.append(CUBOID([platformX,platformY,riser]))\n",
    "    stairs.append(R([1,2])(PI))\n",
    "    stairs.append(T([1,2,3])([0,-2*treadWidth,riser]))\n",
    "    \n",
    "    #Ciclo che costruisce la seconda rampa\n",
    "    for x in range(0,int(steps)):\n",
    "        stairs.append(CUBOID([tread,treadWidth,riser]))\n",
    "        stairs.append(T([1,2,3])([tread,0,riser]))\n",
    "    stairs.append(CUBOID([platformX,platformY,riser]))\n",
    "    stairs.append(R([1,2])(PI))\n",
    "\n",
    "    #Verifica delle misure\n",
    "    print(SIZE([1,2,3])(BOX([1,2,3])(STRUCT(stairs))))\n",
    "    \n",
    "    VIEW(STRUCT(stairs))\n",
    "\n",
    "ggpl_building_stairs(6,3,3.51) "
   ]
  },
  {
   "cell_type": "markdown",
   "metadata": {},
   "source": [
    "# Screenshots dell'oggetto HPC ottenuto:"
   ]
  },
  {
   "cell_type": "markdown",
   "metadata": {},
   "source": [
    "![alt text](stairs.png)"
   ]
  },
  {
   "cell_type": "markdown",
   "metadata": {},
   "source": [
    "![alt text](stairs2.png)"
   ]
  }
 ],
 "metadata": {
  "anaconda-cloud": {},
  "kernelspec": {
   "display_name": "Python [default]",
   "language": "python",
   "name": "python2"
  },
  "language_info": {
   "codemirror_mode": {
    "name": "ipython",
    "version": 2
   },
   "file_extension": ".py",
   "mimetype": "text/x-python",
   "name": "python",
   "nbconvert_exporter": "python",
   "pygments_lexer": "ipython2",
   "version": "2.7.12"
  }
 },
 "nbformat": 4,
 "nbformat_minor": 1
}
