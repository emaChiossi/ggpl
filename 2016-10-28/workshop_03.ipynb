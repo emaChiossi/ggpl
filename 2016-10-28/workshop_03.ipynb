{
 "cells": [
  {
   "cell_type": "markdown",
   "metadata": {},
   "source": [
    "<h1>Workshop n°3 di GGPL di Emanuele Chiossi, mat. 439468</h1>\n",
    "<h3>Building stairs</h3>\n"
   ]
  },
  {
   "cell_type": "markdown",
   "metadata": {},
   "source": [
    "L'obiettivo del workshop numero 3 è quello di realizzare la struttura di una scalinata, più o meno particolare.\n",
    "\n",
    "Come spunto si è presa il rete la figura seguente presa in rete, si vuole realizzare la struttura di una scalinata.\n",
    "\n",
    "Per semplicità di visualizzazione sono stati omessi il primo e l'ultimo pianerottolo."
   ]
  },
  {
   "cell_type": "markdown",
   "metadata": {},
   "source": [
    "![alt text](scala.jpeg)"
   ]
  },
  {
   "cell_type": "markdown",
   "metadata": {},
   "source": [
    "Le variabili utilizzate per realizzare la scalinata sono le seguenti:\n",
    "<ul>\n",
    "<li>dx,dy,dz: spazio disponibile per costruire la scala</li>\n",
    "<li>platformX: dimensione X del pianerottolo</li>\n",
    "<li>platformY: dimensione Y del pianerottolo</li>\n",
    "<li>idealTread: dimensione ideale pedata</li>\n",
    "<li>idealRiser: dimensione ideale alzata</li>\n",
    "<li>treadWidth: dimensione Y della singola rampa di scale</li>\n",
    "<li>halfDz: dimensione Z della singola rampa di scale</li>\n",
    "<li>treadTot: dimensione X della rampa di scale senza il pianerottolo</li>\n",
    "<li>steps: numero gradini</li>\n",
    "<li>tread: pedata reale</li>\n",
    "<li>riser: alzata reale</li>\n",
    "<li>stairs: scale</li>\n",
    "<li>diagonal: sostegno scale</li>\n",
    "<li>vertexs, cells: vertici e celle che compongono diagonal</li>\n",
    "</ul>\n",
    "\n",
    "Per la realizzazione del sostegno della scala (diagonal), si utilizza la funzione MKPOL.\n",
    "\n",
    "Per la realizzazione della scalinata si è costruito un gradino alla volta e per ogni step si applicano le necessarie traslazioni e/o rotazioni.\n",
    "\n",
    "Per concludere, si è confrontato lo spazio effettivo occupato dalla scala con quello a disposizione.\n",
    "\n",
    "Ulteriori dettagli implementativi è possibile trovarli nei commenti del codice."
   ]
  },
  {
   "cell_type": "markdown",
   "metadata": {},
   "source": [
    "Codice:"
   ]
  },
  {
   "cell_type": "code",
   "execution_count": 1,
   "metadata": {
    "collapsed": false
   },
   "outputs": [
    {
     "name": "stdout",
     "output_type": "stream",
     "text": [
      "Evaluating fenvs.py..\n",
      "...fenvs.py imported in 0.01059 seconds\n",
      "[6.000000476837158, 3.0, 6.000002384185791]\n"
     ]
    }
   ],
   "source": [
    "from pyplasm import *\n",
    "from larlib import *\n",
    "\n",
    "\"\"\"Funzione che realizza il disegno di una scalinata prendendo\n",
    "   in input i valori dx,dy e dz dello spazio a disposizione\"\"\"\n",
    "\n",
    "def ggpl_building_stairs(dx,dy,dz):\n",
    "    #Variabili principali\n",
    "    platformX = 1   #dimensione X del pianerottolo\n",
    "    platformY = dy   #dimensione Y del pianerottolo,\n",
    "    idealTread = .29   #dimensione ideale pedata\n",
    "    idealRiser = .17   #dimensione ideale alzata\n",
    "    treadWidth = DIV([dy,2])   #dimensione Y della singola rampa di scale\n",
    "    halfDz = DIV([dz,2])   #dimensione Z della singola rampa di scale\n",
    "    treadTot = dx - platformX   #dimensione X della rampa di scale senza il pianerottolo\n",
    "    steps = modf(treadTot/idealTread)[1]   #numero gradini\n",
    "    tread = DIV([treadTot,steps])  #pedata reale\n",
    "    riser = DIV([halfDz,steps+.5])  #alzata reale\n",
    "\n",
    "    stairs = []   #scale\n",
    "    diagonal = []  #sostegno scale\n",
    "    vertex = [[tread,0,0],[tread,0,riser],[2*tread,0,riser],[tread,treadWidth,0],[tread,treadWidth,riser],[2*tread,treadWidth,riser]]\n",
    "    cells = [1,2,3,4,5,6]\n",
    "    diagonal.append(MKPOL([vertex,[cells],None]))\n",
    "    #Ciclo che costruisce la prima rampa di scale con il rispettivo sostegno\n",
    "    for x in range(0,int(steps)):\n",
    "        stairs.append(CUBOID([tread,treadWidth,riser]))\n",
    "        stairs.append(T([1,2,3])([tread,0,riser]))\n",
    "        diagonal.append(MKPOL([vertex,[cells],None]))\n",
    "        diagonal.append(T([1,2,3])([tread,0,riser]))\n",
    "    stairs.append(CUBOID([platformX,platformY,riser])) #si inserisce il pianerottolo\n",
    "    stairs.append(R([1,2])(PI)) #rotazione 180° per costruire la seconda rampa nel verso opposto\n",
    "    stairs.append(T([1,2,3])([0,-2*treadWidth,riser])) #traslazione per spostare la seconda scala al posto giusto\n",
    "    diagonal.append(R([1,2])(PI)) #rotazione 180° per costruire il sostegno della seconda rampa nel verso opposto\n",
    "    diagonal.append(T([1,2,3])([0,-2*treadWidth,riser]))#traslazione per spostare il secondo sostegno al posto giusto\n",
    "    #Ciclo che costruisce la seconda , altro codice come nel primo ciclo\n",
    "    for x in range(0,int(steps)):\n",
    "        stairs.append(CUBOID([tread,treadWidth,riser]))\n",
    "        stairs.append(T([1,2,3])([tread,0,riser]))\n",
    "        if(x<(steps-1)):\n",
    "            diagonal.append(MKPOL([vertex,[cells],None]))\n",
    "            diagonal.append(T([1,2,3])([tread,0,riser]))\n",
    "    stairs.append(R([1,2])(PI))\n",
    "\n",
    "    #Verifica delle misure\n",
    "    print(SIZE([1,2,3])(BOX([1,2,3])(STRUCT(stairs))))\n",
    "    \n",
    "    VIEW(STRUCT([STRUCT(diagonal),STRUCT(stairs)]))\n",
    "\n",
    "ggpl_building_stairs(6,3,6) "
   ]
  },
  {
   "cell_type": "markdown",
   "metadata": {},
   "source": [
    "# Screenshots dell'oggetto HPC ottenuto:"
   ]
  },
  {
   "cell_type": "markdown",
   "metadata": {},
   "source": [
    "![alt text](image.png)"
   ]
  },
  {
   "cell_type": "markdown",
   "metadata": {},
   "source": [
    "![alt text](image2.png)"
   ]
  }
 ],
 "metadata": {
  "anaconda-cloud": {},
  "kernelspec": {
   "display_name": "Python 2",
   "language": "python",
   "name": "python2"
  },
  "language_info": {
   "codemirror_mode": {
    "name": "ipython",
    "version": 2
   },
   "file_extension": ".py",
   "mimetype": "text/x-python",
   "name": "python",
   "nbconvert_exporter": "python",
   "pygments_lexer": "ipython2",
   "version": "2.7.6"
  }
 },
 "nbformat": 4,
 "nbformat_minor": 1
}
