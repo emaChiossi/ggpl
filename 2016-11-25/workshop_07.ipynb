{
 "cells": [
  {
   "cell_type": "markdown",
   "metadata": {},
   "source": [
    "<h1>Workshop n°7 di GGPL di Emanuele Chiossi, mat. 439468</h1>\n",
    "<h3>Modeling wooden doors and windows</h3>"
   ]
  },
  {
   "cell_type": "markdown",
   "metadata": {},
   "source": [
    "<h2>Descrizione</h2>"
   ]
  },
  {
   "cell_type": "markdown",
   "metadata": {},
   "source": [
    "Per questo homework occorre realizzare una porta ed una finestra più o meno semplici. \n",
    "\n",
    "La prima cosa da fare è scegliere delle immagini di riferimento dal web da utilizzare come esempio.\n",
    "\n",
    "Per quanto riguarda la porta, si è optato per la scelta di una immagine che raffigura un modello in legno con doppia apertura. \n",
    "\n",
    "Per la finestra, si è scelta un'immagine che raffigura una vetrata più moderna con quattro blocchi: per semplicità sono stati esclusi i montanti in muratura che dividono i blocchi laterali più piccoli da quello centrale.\n",
    "\n",
    "Di seguito le immagini in questione e gli schemi elaborati su carta per avere un riferimento più concreto:"
   ]
  },
  {
   "cell_type": "markdown",
   "metadata": {},
   "source": [
    "![text alt](esempio.jpg)"
   ]
  },
  {
   "cell_type": "markdown",
   "metadata": {},
   "source": [
    "![text alt](grafoPorta1.jpg)"
   ]
  },
  {
   "cell_type": "markdown",
   "metadata": {},
   "source": [
    "L'immagine di riferimento per diegnare la finestra è la seguente:"
   ]
  },
  {
   "cell_type": "markdown",
   "metadata": {},
   "source": [
    "![text alt](esempioFinestra.jpg)"
   ]
  },
  {
   "cell_type": "markdown",
   "metadata": {},
   "source": [
    "![text alt](grafoFinestra1.jpg)"
   ]
  },
  {
   "cell_type": "markdown",
   "metadata": {},
   "source": [
    "Le variabili utilizzate per la realizzazione della porta sono le seguenti:\n",
    "<ul>\n",
    "<li>XD: vettore che rappresenta la suddivisione della struttura della porta sull'asse X</li>\n",
    "<li>YD: vettore che rappresenta la suddivisione della struttura della porta sull'asse Y</li>\n",
    "<li>ZD: vettore che rappresenta la suddivisione della struttura della porta sull'asse Z</li>\n",
    "<li>occupancyD: vettore di vettori che rappresentano la presenza o meno di parti in legno (1=presente,0=non presente) ad una determinata altezza della porta</li>\n",
    "<li>XW: vettore che rappresenta la suddivisione della struttura della finestra sull'asse X</li>\n",
    "<li>YW: vettore che rappresenta la suddivisione della struttura della finestra sull'asse Y</li>\n",
    "<li>ZW: vettore che rappresenta la suddivisione della struttura della finestra sull'asse Z</li>\n",
    "<li>occupancyW: vettore di vettori che rappresentano la presenza o meno di parti in metallo (1=presente,0=non presente) ad una determinata altezza della finestra</li>\n",
    "<li>x,y,z: vettori locali che rappresentano XD,YD,ZD nel metodo door(XW,YW,ZW per nel metodo window)</li>\n",
    "<li>lunghezzaX: lunghezza totale della struttura (per la porta: una apertura)</li>\n",
    "<li>altezzaZ: altezza totale della struttura</li>\n",
    "<li>dCorner: dimensione della cornice decorativa della struttura</li>\n",
    "<li>dGlass: dimensione del vetro della struttura</li>\n",
    "<li>dx,dy,dx: dimensione dello spazio a disposizione per la struttura</li>\n",
    "<li>percent: variabile utilizzata per scalare opportunamente le dimensioni della struttura in base allo spazio a disposizione</li>\n",
    "<li>prodXY, prod: variabile di appoggio per la costruzione della struttura</li>\n",
    "<li>door: variabile che rappresenta la porta</li>\n",
    "<li>window: variabile che rappresenta la finestra</li>\n",
    "<li>maniglia: variabile che rappresenta la maniglia</li>\n",
    "\n",
    "</ul>"
   ]
  },
  {
   "cell_type": "markdown",
   "metadata": {},
   "source": [
    "Per la realizzazione delle due strutture, si è scomposto il modello lungo l'asse X e lungo l'asse Z: in questo modo, per ogni coppia (X,Z) è possibile specificare se nel punto corispondente è presente il legno, il metallo o il vetro.\n",
    "\n",
    "Così è possibile costruire la struttura a blocchi senza particolari difficoltà.\n",
    "\n",
    "Le funzioni di primo livello (door, window) hanno in ingresso i parametri di costruzione degli oggetti, mentre le funzioni di secondo livello(param, param) hanno in ingresso i parametri che sanciscono lo spazio a disposizione per le strutture.\n",
    "\n",
    "Ulteriori considerazioni sono state fatte sotto forma di commento nel codice.\n",
    "\n",
    "Il codice è il seguente:"
   ]
  },
  {
   "cell_type": "markdown",
   "metadata": {},
   "source": [
    "Codice:"
   ]
  },
  {
   "cell_type": "code",
   "execution_count": 1,
   "metadata": {
    "collapsed": false
   },
   "outputs": [
    {
     "name": "stdout",
     "output_type": "stream",
     "text": [
      "Evaluating fenvs.py..\n",
      "...fenvs.py imported in 0.009197 seconds\n"
     ]
    }
   ],
   "source": [
    "from pyplasm import *\n",
    "#parametri di costruzione della porta\n",
    "XD =[.10, .40, .10]\n",
    "YD =[.05]\n",
    "ZD =[.10, .40, .10, .90, .10, .40, .10]\n",
    "occupancyD = [[1,1,1],[1,0,1],[1,1,1],[1,0,1],[1,1,1],[1,0,1],[1,1,1]]\n",
    "#parametri di costruzione della finestra\n",
    "XW =[.05,.4,.02,.4,.1,.4,.02,.4,.05]\n",
    "YW =[.05]\n",
    "ZW =[.05,.4,.02,.4,.05,.4,.02,.4,.1,.4,.05]\n",
    "occupancyW = [[1,1,1,1,1,1,1,1,1],[1,0,1,0,1,0,1,0,1],[1,1,1,1,1,1,1,1,1],[1,0,1,0,1,0,1,0,1],[1,1,1,1,1,1,1,1,1],[1,0,1,0,1,0,1,0,1],[1,1,1,1,1,1,1,1,1],[1,0,1,0,1,0,1,0,1],[1,1,1,1,1,1,1,1,1],[1,0,0,0,1,0,0,0,1],[1,1,1,1,1,1,1,1,1]]\n",
    "\n",
    "#funzione che costruisce la porta\n",
    "def door(coordinateD, occupancyD):\n",
    "    def param(dx,dy,dz):\n",
    "        x = coordinateD[0]\n",
    "        y = coordinateD[1]\n",
    "        z = coordinateD[2]\n",
    "        lunghezzaX = 0#lunghezza mezza porta\n",
    "        altezzaZ = 0#altezza porta\n",
    "        dCorner = [y[0]*.5]#dimesione cornice interna\n",
    "        dGlass = y[0]*.5#dimensione vetro\n",
    "        for i in x: \n",
    "            lunghezzaX=lunghezzaX+i#calcolo lunghezza porta\n",
    "        for i in z:\n",
    "            altezzaZ=altezzaZ+i#calcolo altezza porta\n",
    "        if dx<(lunghezzaX*2.):#se la porta è più grande dello spazio disponibile scala il valore di x\n",
    "            percent=dx/(lunghezzaX*2.)#calcolo il fattore di scala per x\n",
    "            for i in range(0, len(x)):\n",
    "                x[i] = x[i]*percent#ricalcolo i valori su x\n",
    "            lunghezzaX = lunghezzaX*percent#ricalcolo valore lunghezza\n",
    "        if dy<y[0]:#se la porta è più grande dello spazio disponibile scala il valore di y\n",
    "            percent=dy/(y[0]*1.)#calcolo il fattore di scala per y\n",
    "            y[0] = y[0]*percent#ricalcolo i valori su y\n",
    "        if dz<altezzaZ:#se la porta è più grande dello spazio disponibile scala il valore di z\n",
    "            percent=dx/(altezzaZ*1.)#calcolo il fattore di scala per z\n",
    "            for i in range(0, len(z)):\n",
    "                z[i] = z[i]*percent#ricalcolo i valori su z\n",
    "            altezzaZ = altezzaZ*percent#ricalcolo l'altezza\n",
    "        door = []#porta\n",
    "        for i in range(0,2):#costruzione delle due pari di cui si compone la porta\n",
    "            for iz in range(0,len(z)):#ciclo sulle varie parti di cui si compone l'altezza\n",
    "                vect = occupancyD[iz]#vettore che rappresenta se lo spazio è vetro o legno\n",
    "                cont = 0#memorizza la posizione in vect\n",
    "                for ix in vect:#ciclo in vect\n",
    "                    if ix==1:#se inseriamo legno\n",
    "                        prodXY = PROD([QUOTE([x[cont]]),QUOTE(y)])\n",
    "                        prod = PROD([prodXY,QUOTE([z[iz]])])\n",
    "                        door.append(COLOR([51./255.,25./255.,0,1]))\n",
    "                        door.append(prod)\n",
    "                    if ix==0:#se inseriamo vetro e cornice decorativa\n",
    "                        #cornice\n",
    "                        prodXY = PROD([QUOTE([x[cont]-.01]),QUOTE(dCorner)])\n",
    "                        prod = PROD([prodXY,QUOTE([z[iz]-.01])])\n",
    "                        door.append(T([1,2,3])([0,y[0]/2.-dCorner[0]/2-.005,0]))\n",
    "                        door.append(COLOR([153./255.,76./255.,0,1]))\n",
    "                        door.append(OFFSET([.01,.01,.01])(SKEL_1(prod)))\n",
    "                        door.append(T([1,2,3])([0,-(y[0]/2.-dCorner[0]/2-.005),0]))\n",
    "                        #vetro\n",
    "                        prodXY = PROD([QUOTE([x[cont]]),QUOTE([dGlass])])\n",
    "                        prod = PROD([prodXY,QUOTE([z[iz]])])\n",
    "                        door.append(T([1,2,3])([0,y[0]/2.-dGlass/2,0]))\n",
    "                        door.append(COLOR([150./255.,225./255.,1,1]))\n",
    "                        door.append(prod)\n",
    "                        door.append(T([1,2,3])([0,-(y[0]/2.-dGlass/2),0]))\n",
    "                    door.append(T([1,2,3])([x[cont],0,0]))\n",
    "                    cont = cont+1\n",
    "                door.append(T([1,2,3])([-lunghezzaX,0,z[iz]])) #mi riposiziono per costruire gli altri pezzi all'inizio della porta\n",
    "            door.append(T([1,2,3])([lunghezzaX+.005,0,-altezzaZ]))#mi riposiziono a terra per costruire la seconda porta\n",
    "        maniglia = CUBOID([-.02,.02,.15])#maniglia\n",
    "        door.append(T([1,2,3])([-lunghezzaX-.005-.005-.03,y[0],altezzaZ*.5]))#posizionamento prima maniglia\n",
    "        door.append(COLOR([1,191./255.,0,1]))\n",
    "        door.append(maniglia)\n",
    "        door.append(T([1,2,3])([.03+.05+.005,0,0]))#posizionamento seconda maniglia\n",
    "        door.append(maniglia)\n",
    "        return STRUCT(door)\n",
    "    return param\n",
    "\n",
    "#funzione che costruisce la finestra, praticamente identica a quella che costruisce la porta\n",
    "def window(coordinate, occupancy):\n",
    "    def param(dx,dy,dz):\n",
    "        x = coordinate[0]\n",
    "        y = coordinate[1]\n",
    "        z = coordinate[2]\n",
    "        lunghezzaX = 0#lunghezza metà finestra\n",
    "        altezzaZ = 0#altezza finestra\n",
    "        dCorner = [y[0]*.5]#dimensione cornice decorativa\n",
    "        dGlass = y[0]*.5#dimensione vetro\n",
    "        for i in x: \n",
    "            lunghezzaX=lunghezzaX+i\n",
    "        for i in z:\n",
    "            altezzaZ=altezzaZ+i\n",
    "        if dx<(lunghezzaX*2.):\n",
    "            percent=dx/(lunghezzaX*2.)\n",
    "            for i in range(0, len(x)):\n",
    "                x[i] = x[i]*percent\n",
    "            lunghezzaX = lunghezzaX*percent\n",
    "        if dy<y[0]:\n",
    "            print y\n",
    "            percent=dy/(y[0]*1.)\n",
    "            y[0] = y[0]*percent\n",
    "        if dz<altezzaZ:\n",
    "            print z\n",
    "            percent=dx/(altezzaZ*1.)\n",
    "            for i in range(0, len(z)):\n",
    "                z[i] = z[i]*percent\n",
    "            altezzaZ = altezzaZ*percent\n",
    "        window = []\n",
    "        for i in range(0,2):#come sopra\n",
    "            for iz in range(0,len(z)):#come sopra\n",
    "                vect = occupancy[iz]#come sopra\n",
    "                cont = 0#come sopra\n",
    "                for ix in vect:#come sopra\n",
    "                    if ix==1:#come sopra\n",
    "                        prodXY = PROD([QUOTE([x[cont]]),QUOTE(y)])\n",
    "                        prod = PROD([prodXY,QUOTE([z[iz]])])\n",
    "                        window.append(COLOR([51./255.,25./255.,0,1]))\n",
    "                        window.append(prod)\n",
    "                    if ix==0:#come sopra\n",
    "                        if(iz<len(z)-2):#se non ci troviamo a costruire i lucernai\n",
    "                            #cornice\n",
    "                            prodXY = PROD([QUOTE([x[cont]-.01]),QUOTE(dCorner)])\n",
    "                            prod = PROD([prodXY,QUOTE([z[iz]-.01])])\n",
    "                            window.append(T([1,2,3])([0,y[0]/2.-dCorner[0]/2-.005,0]))\n",
    "                            window.append(COLOR([153./255.,76./255.,0,1]))\n",
    "                            window.append(OFFSET([.01,.01,.01])(SKEL_1(prod)))\n",
    "                            window.append(T([1,2,3])([0,-(y[0]/2.-dCorner[0]/2-.005),0]))\n",
    "                        #vetro\n",
    "                        prodXY = PROD([QUOTE([x[cont]]),QUOTE([dGlass])])\n",
    "                        prod = PROD([prodXY,QUOTE([z[iz]])])\n",
    "                        window.append(T([1,2,3])([0,y[0]/2.-dGlass/2,0]))\n",
    "                        window.append(COLOR([150./255.,225./255.,1,1]))\n",
    "                        window.append(prod)\n",
    "                        window.append(T([1,2,3])([0,-(y[0]/2.-dGlass/2),0]))\n",
    "                    window.append(T([1,2,3])([x[cont],0,0]))\n",
    "                    cont = cont+1\n",
    "                window.append(T([1,2,3])([-lunghezzaX,0,z[iz]]))#come sopra \n",
    "            window.append(T([1,2,3])([lunghezzaX+.005,0,-altezzaZ]))#come sopra\n",
    "        maniglia = CUBOID([-.02,.02,.15])\n",
    "        window.append(T([1,2,3])([-lunghezzaX-.005-.005-.03,y[0],altezzaZ*.5]))\n",
    "        window.append(COLOR([1,191./255.,0,1]))\n",
    "        window.append(maniglia)\n",
    "        window.append(T([1,2,3])([.03+.05+.005,0,0]))\n",
    "        window.append(maniglia)\n",
    "        return STRUCT(window)\n",
    "    return param\n",
    "\n",
    "#costruzione porta: VIEW(door([XD,YD,ZD],occupancyD)(1.2,.05,2.1)) \n",
    "#costruzione porta con parametri violati: VIEW(door([XD,YD,ZD],occupancyD)(1.2,.05,2.1)) \n",
    "#costruzione finestra: VIEW(window([XW,YW,ZW],occupancyW)(3.6,.05,2.29))\n",
    "#costruzione finestra con parametri violati: VIEW(window([XW,YW,ZW],occupancyW)(1.8,.05,1.7))"
   ]
  },
  {
   "cell_type": "markdown",
   "metadata": {},
   "source": [
    "<h2>Screenshot dell'oggetto HPC ottenuto: la porta</h2>"
   ]
  },
  {
   "cell_type": "markdown",
   "metadata": {
    "collapsed": true
   },
   "source": [
    "![text alt](porta01.png)"
   ]
  },
  {
   "cell_type": "markdown",
   "metadata": {
    "collapsed": true
   },
   "source": [
    "![text alt](porta02.png)"
   ]
  },
  {
   "cell_type": "markdown",
   "metadata": {
    "collapsed": true
   },
   "source": [
    "![text alt](porta03.png)"
   ]
  },
  {
   "cell_type": "markdown",
   "metadata": {
    "collapsed": true
   },
   "source": [
    "![text alt](porta04.png)"
   ]
  },
  {
   "cell_type": "markdown",
   "metadata": {
    "collapsed": true
   },
   "source": [
    "![text alt](porta05.png)"
   ]
  },
  {
   "cell_type": "markdown",
   "metadata": {},
   "source": [
    "<h2>Screenshot dell'oggetto HPC ottenuto: la finestra</h2>"
   ]
  },
  {
   "cell_type": "markdown",
   "metadata": {
    "collapsed": true
   },
   "source": [
    "![text alt](finestra01.png)"
   ]
  },
  {
   "cell_type": "markdown",
   "metadata": {
    "collapsed": true
   },
   "source": [
    "![text alt](finestra02.png)"
   ]
  },
  {
   "cell_type": "markdown",
   "metadata": {
    "collapsed": true
   },
   "source": [
    "![text alt](finestra03.png)"
   ]
  },
  {
   "cell_type": "markdown",
   "metadata": {
    "collapsed": true
   },
   "source": [
    "![text alt](finestra04.png)"
   ]
  },
  {
   "cell_type": "markdown",
   "metadata": {
    "collapsed": true
   },
   "source": [
    "![text alt](finestra05.png)"
   ]
  }
 ],
 "metadata": {
  "kernelspec": {
   "display_name": "Python 2",
   "language": "python",
   "name": "python2"
  },
  "language_info": {
   "codemirror_mode": {
    "name": "ipython",
    "version": 2
   },
   "file_extension": ".py",
   "mimetype": "text/x-python",
   "name": "python",
   "nbconvert_exporter": "python",
   "pygments_lexer": "ipython2",
   "version": "2.7.6"
  }
 },
 "nbformat": 4,
 "nbformat_minor": 1
}
