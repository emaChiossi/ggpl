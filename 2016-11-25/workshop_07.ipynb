{
 "cells": [
  {
   "cell_type": "markdown",
   "metadata": {},
   "source": [
    "<h1>Workshop n°7 di GGPL di Emanuele Chiossi, mat. 439468</h1>\n",
    "<h3>Modeling wooden doors and windows</h3>"
   ]
  },
  {
   "cell_type": "markdown",
   "metadata": {},
   "source": [
    "<h2>Descrizione</h2>"
   ]
  },
  {
   "cell_type": "markdown",
   "metadata": {},
   "source": [
    "Per questo homework occorre realizzare una porta ed una finestra in legno. Sono state prese dal web le seguenti immagini come riferimento per la realizzazione dei due modelli.\n",
    "\n",
    "Le scelte progettuali e le variabili impiegate sono spiegate passo passo tramite il commento del codice prodotto.\n",
    "\n",
    "L'immagine di riferimento per disegnare la porta è la seguente:"
   ]
  },
  {
   "cell_type": "markdown",
   "metadata": {},
   "source": [
    "![text alt](esempio.jpg)"
   ]
  },
  {
   "cell_type": "markdown",
   "metadata": {},
   "source": [
    "![text alt](grafoPorta1.jpg)"
   ]
  },
  {
   "cell_type": "markdown",
   "metadata": {},
   "source": [
    "L'immagine di riferimento per diegnare la finestra è la seguente:"
   ]
  },
  {
   "cell_type": "markdown",
   "metadata": {},
   "source": [
    "![text alt](esempioFinestra.jpg)"
   ]
  },
  {
   "cell_type": "markdown",
   "metadata": {},
   "source": [
    "![text alt](grafoFinestra1.jpg)"
   ]
  },
  {
   "cell_type": "markdown",
   "metadata": {},
   "source": [
    "Codice:"
   ]
  },
  {
   "cell_type": "code",
   "execution_count": 30,
   "metadata": {
    "collapsed": false
   },
   "outputs": [
    {
     "data": {
      "text/plain": [
       "<pyplasm.xgepy.Hpc; proxy of <Swig Object of type 'std::shared_ptr< Hpc > *' at 0x7f8fdaa5b120> >"
      ]
     },
     "execution_count": 30,
     "metadata": {},
     "output_type": "execute_result"
    }
   ],
   "source": [
    "from pyplasm import *\n",
    "#parametri di costruzione della porta\n",
    "XD =[.10, .40, .10]\n",
    "YD =[.05]\n",
    "ZD =[.10, .40, .10, .90, .10, .40, .10]\n",
    "occupancyD = [[1,1,1],[1,0,1],[1,1,1],[1,0,1],[1,1,1],[1,0,1],[1,1,1]]\n",
    "#parametri di costruzione della finestra\n",
    "XW =[.05,.4,.02,.4,.1,.4,.02,.4,.05]\n",
    "YW =[.05]\n",
    "ZW =[.05,.4,.02,.4,.05,.4,.02,.4,.1,.4,.05]\n",
    "occupancyW = [[1,1,1,1,1,1,1,1,1],[1,0,1,0,1,0,1,0,1],[1,1,1,1,1,1,1,1,1],[1,0,1,0,1,0,1,0,1],[1,1,1,1,1,1,1,1,1],[1,0,1,0,1,0,1,0,1],[1,1,1,1,1,1,1,1,1],[1,0,1,0,1,0,1,0,1],[1,1,1,1,1,1,1,1,1],[1,0,0,0,1,0,0,0,1],[1,1,1,1,1,1,1,1,1]]\n",
    "\n",
    "#funzione che costruisce la porta\n",
    "def door(coordinateD, occupancyD):\n",
    "    def param(dx,dy,dz):\n",
    "        x = coordinateD[0]\n",
    "        y = coordinateD[1]\n",
    "        z = coordinateD[2]\n",
    "        lunghezzaX = 0#lunghezza mezza porta\n",
    "        altezzaZ = 0#altezza porta\n",
    "        dCorner = [y[0]*.5]#dimesione cornice interna\n",
    "        dGlass = y[0]*.5#dimensione vetro\n",
    "        for i in x: \n",
    "            lunghezzaX=lunghezzaX+i\n",
    "        for i in z:\n",
    "            altezzaZ=altezzaZ+i\n",
    "        if dx<(lunghezzaX*2.):\n",
    "            percent=dx/(lunghezzaX*2.)\n",
    "            for i in range(0, len(x)):\n",
    "                x[i] = x[i]*percent\n",
    "            lunghezzaX = lunghezzaX*percent\n",
    "        if dy<y[0]:\n",
    "            print y\n",
    "            percent=dy/(y[0]*1.)\n",
    "            y[0] = y[0]*percent\n",
    "        if dz<altezzaZ:\n",
    "            print z\n",
    "            percent=dx/(altezzaZ*1.)\n",
    "            for i in range(0, len(z)):\n",
    "                z[i] = z[i]*percent\n",
    "            altezzaZ = altezzaZ*percent\n",
    "        door = []\n",
    "        for i in range(0,2):#costruzione delle due pari di cui si compone la porta\n",
    "            for iz in range(0,len(z)):#ciclo sulle varie parti di cui si compone l'altezza\n",
    "                vect = occupancyD[iz]#vettore che rappresenta se lo spazio è vetro o legno\n",
    "                cont = 0#memorizza la posizione in vect\n",
    "                for ix in vect:#ciclo in vect\n",
    "                    if ix==1:#se inseriamo legno\n",
    "                        prodXY = PROD([QUOTE([x[cont]]),QUOTE(y)])\n",
    "                        prod = PROD([prodXY,QUOTE([z[iz]])])\n",
    "                        door.append(COLOR([51./255.,25./255.,0,1]))\n",
    "                        door.append(prod)\n",
    "                    if ix==0:#se inseriamo vetro e cornice decorativa\n",
    "                        #cornice\n",
    "                        prodXY = PROD([QUOTE([x[cont]-.01]),QUOTE(dCorner)])\n",
    "                        prod = PROD([prodXY,QUOTE([z[iz]-.01])])\n",
    "                        door.append(T([1,2,3])([0,y[0]/2.-dCorner[0]/2-.005,0]))\n",
    "                        door.append(COLOR([153./255.,76./255.,0,1]))\n",
    "                        door.append(OFFSET([.01,.01,.01])(SKEL_1(prod)))\n",
    "                        door.append(T([1,2,3])([0,-(y[0]/2.-dCorner[0]/2-.005),0]))\n",
    "                        #vetro\n",
    "                        prodXY = PROD([QUOTE([x[cont]]),QUOTE([dGlass])])\n",
    "                        prod = PROD([prodXY,QUOTE([z[iz]])])\n",
    "                        door.append(T([1,2,3])([0,y[0]/2.-dGlass/2,0]))\n",
    "                        door.append(COLOR([150./255.,225./255.,1,1]))\n",
    "                        door.append(prod)\n",
    "                        door.append(T([1,2,3])([0,-(y[0]/2.-dGlass/2),0]))\n",
    "                    door.append(T([1,2,3])([x[cont],0,0]))\n",
    "                    cont = cont+1\n",
    "                door.append(T([1,2,3])([-lunghezzaX,0,z[iz]])) #mi riposiziono per costruire gli altri pezzi all'inizio della porta\n",
    "            door.append(T([1,2,3])([lunghezzaX+.005,0,-altezzaZ]))#mi riposiziono a terra per costruire la seconda porta\n",
    "        maniglia = CUBOID([-.02,.02,.15])#maniglia\n",
    "        door.append(T([1,2,3])([-lunghezzaX-.005-.005-.03,y[0],altezzaZ*.5]))#posizionamento prima maniglia\n",
    "        door.append(COLOR([1,191./255.,0,1]))\n",
    "        door.append(maniglia)\n",
    "        door.append(T([1,2,3])([.03+.05+.005,0,0]))#posizionamento seconda maniglia\n",
    "        door.append(maniglia)\n",
    "        return STRUCT(door)\n",
    "    return param\n",
    "\n",
    "#funzione che costruisce la finestra\n",
    "def window(coordinate, occupancy):\n",
    "    def param(dx,dy,dz):\n",
    "        x = coordinate[0]\n",
    "        y = coordinate[1]\n",
    "        z = coordinate[2]\n",
    "        lunghezzaX = 0#lunghezza metà finestra\n",
    "        altezzaZ = 0#altezza finestra\n",
    "        dCorner = [y[0]*.5]#dimensione cornice decorativa\n",
    "        dGlass = y[0]*.5#dimensione vetro\n",
    "        for i in x: \n",
    "            lunghezzaX=lunghezzaX+i\n",
    "        for i in z:\n",
    "            altezzaZ=altezzaZ+i\n",
    "        if dx<(lunghezzaX*2.):\n",
    "            percent=dx/(lunghezzaX*2.)\n",
    "            for i in range(0, len(x)):\n",
    "                x[i] = x[i]*percent\n",
    "            lunghezzaX = lunghezzaX*percent\n",
    "        if dy<y[0]:\n",
    "            print y\n",
    "            percent=dy/(y[0]*1.)\n",
    "            y[0] = y[0]*percent\n",
    "        if dz<altezzaZ:\n",
    "            print z\n",
    "            percent=dx/(altezzaZ*1.)\n",
    "            for i in range(0, len(z)):\n",
    "                z[i] = z[i]*percent\n",
    "            altezzaZ = altezzaZ*percent\n",
    "        window = []\n",
    "        for i in range(0,2):#come sopra\n",
    "            for iz in range(0,len(z)):#come sopra\n",
    "                vect = occupancy[iz]#come sopra\n",
    "                cont = 0#come sopra\n",
    "                for ix in vect:#come sopra\n",
    "                    if ix==1:#come sopra\n",
    "                        prodXY = PROD([QUOTE([x[cont]]),QUOTE(y)])\n",
    "                        prod = PROD([prodXY,QUOTE([z[iz]])])\n",
    "                        window.append(COLOR([51./255.,25./255.,0,1]))\n",
    "                        window.append(prod)\n",
    "                    if ix==0:#come sopra\n",
    "                        if(iz<len(z)-2):#se non ci troviamo a costruire i lucernai\n",
    "                            #cornice\n",
    "                            prodXY = PROD([QUOTE([x[cont]-.01]),QUOTE(dCorner)])\n",
    "                            prod = PROD([prodXY,QUOTE([z[iz]-.01])])\n",
    "                            window.append(T([1,2,3])([0,y[0]/2.-dCorner[0]/2-.005,0]))\n",
    "                            window.append(COLOR([153./255.,76./255.,0,1]))\n",
    "                            window.append(OFFSET([.01,.01,.01])(SKEL_1(prod)))\n",
    "                            window.append(T([1,2,3])([0,-(y[0]/2.-dCorner[0]/2-.005),0]))\n",
    "                        #vetro\n",
    "                        prodXY = PROD([QUOTE([x[cont]]),QUOTE([dGlass])])\n",
    "                        prod = PROD([prodXY,QUOTE([z[iz]])])\n",
    "                        window.append(T([1,2,3])([0,y[0]/2.-dGlass/2,0]))\n",
    "                        window.append(COLOR([150./255.,225./255.,1,1]))\n",
    "                        window.append(prod)\n",
    "                        window.append(T([1,2,3])([0,-(y[0]/2.-dGlass/2),0]))\n",
    "                    window.append(T([1,2,3])([x[cont],0,0]))\n",
    "                    cont = cont+1\n",
    "                window.append(T([1,2,3])([-lunghezzaX,0,z[iz]]))#come sopra \n",
    "            window.append(T([1,2,3])([lunghezzaX+.005,0,-altezzaZ]))#come sopra\n",
    "        maniglia = CUBOID([-.02,.02,.15])\n",
    "        window.append(T([1,2,3])([-lunghezzaX-.005-.005-.03,y[0],altezzaZ*.5]))\n",
    "        window.append(COLOR([1,191./255.,0,1]))\n",
    "        window.append(maniglia)\n",
    "        window.append(T([1,2,3])([.03+.05+.005,0,0]))\n",
    "        window.append(maniglia)\n",
    "        return STRUCT(window)\n",
    "    return param\n",
    "\n",
    "#costruzione porta: VIEW(door([XD,YD,ZD],occupancyD)(1.2,.05,2.1)) \n",
    "#costruzione porta con parametri violati: VIEW(door([XD,YD,ZD],occupancyD)(1.2,.05,2.1)) \n",
    "#costruzione finestra: VIEW(window([XW,YW,ZW],occupancyW)(3.6,.05,2.29))\n",
    "#costruzione finestra con parametri violati: VIEW(window([XW,YW,ZW],occupancyW)(1.8,.05,1.7))"
   ]
  },
  {
   "cell_type": "markdown",
   "metadata": {},
   "source": [
    "<h2>Screenshot dell'oggetto HPC ottenuto: porta</h2>"
   ]
  },
  {
   "cell_type": "markdown",
   "metadata": {
    "collapsed": true
   },
   "source": [
    "![text alt](porta01.png)"
   ]
  },
  {
   "cell_type": "markdown",
   "metadata": {
    "collapsed": true
   },
   "source": [
    "![text alt](porta02.png)"
   ]
  },
  {
   "cell_type": "markdown",
   "metadata": {
    "collapsed": true
   },
   "source": [
    "![text alt](porta03.png)"
   ]
  },
  {
   "cell_type": "markdown",
   "metadata": {
    "collapsed": true
   },
   "source": [
    "![text alt](porta04.png)"
   ]
  },
  {
   "cell_type": "markdown",
   "metadata": {
    "collapsed": true
   },
   "source": [
    "![text alt](porta05.png)"
   ]
  },
  {
   "cell_type": "markdown",
   "metadata": {},
   "source": [
    "<h2>Screenshot dell'oggetto HPC ottenuto: finestra</h2>"
   ]
  },
  {
   "cell_type": "markdown",
   "metadata": {
    "collapsed": true
   },
   "source": [
    "![text alt](finestra01.png)"
   ]
  },
  {
   "cell_type": "markdown",
   "metadata": {
    "collapsed": true
   },
   "source": [
    "![text alt](finestra02.png)"
   ]
  },
  {
   "cell_type": "markdown",
   "metadata": {
    "collapsed": true
   },
   "source": [
    "![text alt](finestra03.png)"
   ]
  },
  {
   "cell_type": "markdown",
   "metadata": {
    "collapsed": true
   },
   "source": [
    "![text alt](finestra04.png)"
   ]
  },
  {
   "cell_type": "markdown",
   "metadata": {
    "collapsed": true
   },
   "source": [
    "![text alt](finestra05.png)"
   ]
  }
 ],
 "metadata": {
  "kernelspec": {
   "display_name": "Python 2",
   "language": "python",
   "name": "python2"
  },
  "language_info": {
   "codemirror_mode": {
    "name": "ipython",
    "version": 2
   },
   "file_extension": ".py",
   "mimetype": "text/x-python",
   "name": "python",
   "nbconvert_exporter": "python",
   "pygments_lexer": "ipython2",
   "version": "2.7.6"
  }
 },
 "nbformat": 4,
 "nbformat_minor": 1
}
