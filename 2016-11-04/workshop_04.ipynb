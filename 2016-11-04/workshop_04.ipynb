{
 "cells": [
  {
   "cell_type": "markdown",
   "metadata": {},
   "source": [
    "<h1><center>Workshop n°4 di GGPL di Emanuele Chiossi, mat. 439468</center></h1>\n",
    "<h3><center>My roof builder</center></h3>\n"
   ]
  },
  {
   "cell_type": "markdown",
   "metadata": {},
   "source": [
    "<h2>Descrizione</h2>"
   ]
  },
  {
   "cell_type": "markdown",
   "metadata": {},
   "source": [
    "Per la realizzazione del tetto più semplice sono state prese dal web le seguenti immagini di riferimento: nello specifico, per la seconda immagine si ci riferisce in particolare al #3. \n",
    "\n",
    "Le scelte progettuali e le variabili impiegate sono spiegate passo passo tramite il commento del codice prodotto."
   ]
  },
  {
   "cell_type": "markdown",
   "metadata": {},
   "source": [
    "![alt text](image.png)"
   ]
  },
  {
   "cell_type": "markdown",
   "metadata": {},
   "source": [
    "![alt text](image2.jpg)"
   ]
  },
  {
   "cell_type": "markdown",
   "metadata": {},
   "source": [
    "Per la realizzazione del tetto più complesso è stata presa la seguente immagine:"
   ]
  },
  {
   "cell_type": "markdown",
   "metadata": {},
   "source": [
    "![alt text](image3.gif)"
   ]
  },
  {
   "cell_type": "markdown",
   "metadata": {},
   "source": [
    "Questo è lo schema di riferimento realizzato da me per costruire il tetto semplice e complesso, con relativi vertici e coordinate: \n",
    "ps: ho provato più volte a caricarla dritta (rotate 180°) ma jupyter non era d'accordo!"
   ]
  },
  {
   "cell_type": "markdown",
   "metadata": {},
   "source": [
    "![alt text](schema_rif.jpg)"
   ]
  },
  {
   "cell_type": "markdown",
   "metadata": {},
   "source": [
    "Codice:"
   ]
  },
  {
   "cell_type": "code",
   "execution_count": 4,
   "metadata": {
    "collapsed": false
   },
   "outputs": [],
   "source": [
    "#import librerie necessarie\n",
    "from pyplasm import *\n",
    "from fpformat import *\n",
    "\n",
    "#funzione che restutuisce l'HPC raffigurante il tetto della casetta #3, il tetto più semplice\n",
    "def draw_simple():\n",
    "    vertexs = [[0,0,0],[4,0,0],[2,1.5,1.25],[2,1.5,0],[0,10,0],[4,10,0],[2,8.5,1.25],[2,8.5,0]]\n",
    "    cells = [[1,2,3,4],[5,6,7,8],[1,3,4,5,7,8],[2,3,4,6,7,8]]\n",
    "    roof = MKPOL([vertexs,cells,None])\n",
    "    return roof\n",
    "\n",
    "#funzione che restutuisce l'HPC raffigurante il tetto della casa, il tetto più complesso\n",
    "def draw_complex():\n",
    "    vertexs = [[0,0,0],[4,0,0],[2,1.5,1.25],[2,1.5,0],[0,10,0],[4,10,0],[2,8.5,1.25],[2,8.5,0],[4,7,0],[7,7,0],[7,5,1],[7,3,0],[4,3,0],[2.345,5,1],[2.345,5,0],[7,5,0]]\n",
    "    cells = [[1,2,3,4],[5,6,7,8],[1,3,4,5,7,8],[2,3,4,6,7,8],[10,11,12,16],[11,12,13,14,15,16],[9,10,11,14,15,16]]\n",
    "    roof = MKPOL([vertexs,cells,None])\n",
    "    return roof\n",
    "\n",
    "#funzione che \"ripulisce\" la struttura dell'HPC fornito in input\n",
    "def ggpl_roof_builder(hpc):\n",
    "    skeleton1 = OFFSET([.1,.1,.1])(SKEL_1(hpc)) #1-scheletro della struttura \n",
    "    skeleton2 = UKPOL(SKEL_2(hpc)) #2-scheletro della struttura \n",
    "    vertexs = skeleton2[0] #lista vertici\n",
    "    cells = skeleton2[1] #lista celle\n",
    "    #manipolo la lista delle celle andando a sostituire al numero del vertice X le coordinate del vertice X\n",
    "    #ottentendo la descrizione delle facce con le coordinate dei punti corrispondenti: cells2vertexs \n",
    "    cells2vertexs = []\n",
    "    for c in cells:   #ciclo le celle\n",
    "        list=[]\n",
    "        for i in c:   #ciclo sugli elementi della singola cella\n",
    "            list.append(vertexs[i-1])   #salvo in list le coordinate corrispondenti al singolo vertice\n",
    "        cells2vertexs.append(list)\n",
    "    #porto al valore 0 i numeri in cells2vertexsClean che sono molto prossimi allo 0 (0.00000000000000001,-0.000000000001)\n",
    "    #portiamo i valori in: app\n",
    "    app = []\n",
    "    for cvc in cells2vertexs:\n",
    "        list = []\n",
    "        for c in cvc:\n",
    "            l = []\n",
    "            for i in c:\n",
    "                x = float(fix(i,3))\n",
    "                l.append(x)\n",
    "            list.append(l)\n",
    "        app.append(list)    \n",
    "    #elimino eventuali doppioni presenti nella lista\n",
    "    cells2vertexsClean = []\n",
    "    for cv in app:\n",
    "        for i in cv:\n",
    "            if i not in cells2vertexsClean:\n",
    "                cells2vertexsClean.append(i)   #appendo gli elementi tralasciando i doppioni\n",
    "            else: \n",
    "                i = cells2vertexsClean.index(i)\n",
    "    #ricostruisco la lista delle celle non considerando i doppioni, quindi modificando opportunamente i valori di ogni faccia       \n",
    "    cellsClean = []  \n",
    "    for cv in app:\n",
    "        list = []\n",
    "        for i in cv:\n",
    "            list.append(cells2vertexsClean.index(i)+1)\n",
    "        cellsClean.append(list)    \n",
    "    #mi interessano solo i vertici \"perimetrali\", per cui quelli con z!=0 e i vertici con z=0 \n",
    "    #e nessun altro vertice sopra: cells2vertexsFinal \n",
    "    cells2vertexsFinal = []\n",
    "    trovato = 0\n",
    "    for cvc in cells2vertexsClean:\n",
    "        if(cvc[2]>0): \n",
    "            cells2vertexsFinal.append(cvc) \n",
    "        else:\n",
    "            for cvc2 in cells2vertexsClean:\n",
    "                if cvc2[2]>0:\n",
    "                    if cvc2[0]==cvc[0] and cvc2[1]==cvc[1]:\n",
    "                        cells2vertexsFinal.append(cvc2)\n",
    "                        trovato=1\n",
    "            if not trovato:\n",
    "                cells2vertexsFinal.append(cvc)\n",
    "            trovato = 0\n",
    "    #costruisco il tetto        \n",
    "    structure = MKPOL([cells2vertexsFinal,cellsClean,None])\n",
    "    structure = STRUCT([T(3)(0.1),structure])\n",
    "    structure = OFFSET([.1,.1,.1])(structure)\n",
    "    roof = STRUCT([structure,skeleton1])\n",
    "    VIEW(roof)\n",
    "    \n",
    "#chiamata alla funzione principale    \n",
    "ggpl_roof_builder(draw_complex())    "
   ]
  },
  {
   "cell_type": "markdown",
   "metadata": {},
   "source": [
    "<h2>Screenshot dell'oggetto HPC ottenuto: tetto semplice</h2>\n"
   ]
  },
  {
   "cell_type": "markdown",
   "metadata": {},
   "source": [
    "![text-alt](tsa.png)"
   ]
  },
  {
   "cell_type": "markdown",
   "metadata": {},
   "source": [
    "![text-alt](tsb.png)"
   ]
  },
  {
   "cell_type": "markdown",
   "metadata": {},
   "source": [
    "![text-alt](tsb2.png)"
   ]
  },
  {
   "cell_type": "markdown",
   "metadata": {},
   "source": [
    "<h2>Screenshot dell'oggetto HPC ottenuto: tetto complesso</h2>\n"
   ]
  },
  {
   "cell_type": "markdown",
   "metadata": {},
   "source": [
    "![text-alt](tc.png)"
   ]
  },
  {
   "cell_type": "markdown",
   "metadata": {},
   "source": [
    "![text-alt](tca.png)"
   ]
  },
  {
   "cell_type": "markdown",
   "metadata": {},
   "source": [
    "![text-alt](tca2.png)"
   ]
  },
  {
   "cell_type": "markdown",
   "metadata": {},
   "source": [
    "![text-alt](tcb.png)"
   ]
  },
  {
   "cell_type": "markdown",
   "metadata": {},
   "source": [
    "![text-alt](tcb2.png)"
   ]
  }
 ],
 "metadata": {
  "kernelspec": {
   "display_name": "Python 2",
   "language": "python",
   "name": "python2"
  },
  "language_info": {
   "codemirror_mode": {
    "name": "ipython",
    "version": 2
   },
   "file_extension": ".py",
   "mimetype": "text/x-python",
   "name": "python",
   "nbconvert_exporter": "python",
   "pygments_lexer": "ipython2",
   "version": "2.7.6"
  }
 },
 "nbformat": 4,
 "nbformat_minor": 1
}
